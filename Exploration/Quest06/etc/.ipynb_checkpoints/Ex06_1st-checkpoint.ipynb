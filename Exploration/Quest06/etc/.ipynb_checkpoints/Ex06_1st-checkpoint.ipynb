{
 "cells": [
  {
   "cell_type": "code",
   "execution_count": null,
   "id": "c916080c-9d56-465c-ab55-a93db0e3ec43",
   "metadata": {},
   "outputs": [],
   "source": [
    "# 뉴스기사 요약해보기"
   ]
  },
  {
   "cell_type": "code",
   "execution_count": 1,
   "id": "6c582a32-7ade-4681-a36a-6e0831472fd4",
   "metadata": {},
   "outputs": [
    {
     "name": "stdout",
     "output_type": "stream",
     "text": [
      "Requirement already satisfied: summa in /opt/conda/lib/python3.12/site-packages (1.2.0)\n",
      "Requirement already satisfied: scipy>=0.19 in /opt/conda/lib/python3.12/site-packages (from summa) (1.15.2)\n",
      "Requirement already satisfied: numpy<2.5,>=1.23.5 in /opt/conda/lib/python3.12/site-packages (from scipy>=0.19->summa) (2.2.6)\n",
      "Requirement already satisfied: nltk in /opt/conda/lib/python3.12/site-packages (3.9.1)\n",
      "Requirement already satisfied: click in /opt/conda/lib/python3.12/site-packages (from nltk) (8.2.1)\n",
      "Requirement already satisfied: joblib in /opt/conda/lib/python3.12/site-packages (from nltk) (1.5.1)\n",
      "Requirement already satisfied: regex>=2021.8.3 in /opt/conda/lib/python3.12/site-packages (from nltk) (2025.7.34)\n",
      "Requirement already satisfied: tqdm in /opt/conda/lib/python3.12/site-packages (from nltk) (4.67.1)\n"
     ]
    }
   ],
   "source": [
    "# 주요 라이브러리 확인 \n",
    "\n",
    "!pip install --upgrade summa\n",
    "!pip install --upgrade nltk #3.9.1"
   ]
  },
  {
   "cell_type": "code",
   "execution_count": 2,
   "id": "5f80177c-ddef-4e4c-a57e-ac3048e5b941",
   "metadata": {},
   "outputs": [
    {
     "name": "stdout",
     "output_type": "stream",
     "text": [
      "3.9.1\n",
      "2.7.1+cu118\n",
      "2.3.0\n",
      "1.2.0\n"
     ]
    }
   ],
   "source": [
    "from importlib.metadata import version\n",
    "import nltk\n",
    "import torch\n",
    "import summa\n",
    "import pandas as pd\n",
    "\n",
    "print(nltk.__version__)\n",
    "print(torch.__version__)\n",
    "print(pd.__version__)\n",
    "print(version('summa'))"
   ]
  },
  {
   "cell_type": "code",
   "execution_count": 6,
   "id": "656d4020-82be-4d6f-a4e2-eb38714d19d3",
   "metadata": {},
   "outputs": [],
   "source": [
    "# Step 1. 데이터 수집하기\n",
    "# 데이터는 아래 링크에 있는 뉴스 기사 데이터(news_headlines_more.csv)를 사용하세요.\n",
    "\n",
    "# sunnysai12345/News_headlines\n",
    "# 아래의 코드로 데이터를 다운로드할 수 있어요."
   ]
  },
  {
   "cell_type": "code",
   "execution_count": 4,
   "id": "5ae28c70-9c8c-4f10-ae73-8112b4dc2c47",
   "metadata": {},
   "outputs": [
    {
     "ename": "FileNotFoundError",
     "evalue": "[Errno 2] No such file or directory: 'news_headlines_more.csv'",
     "output_type": "error",
     "traceback": [
      "\u001b[31m---------------------------------------------------------------------------\u001b[39m",
      "\u001b[31mFileNotFoundError\u001b[39m                         Traceback (most recent call last)",
      "\u001b[36mCell\u001b[39m\u001b[36m \u001b[39m\u001b[32mIn[4]\u001b[39m\u001b[32m, line 3\u001b[39m\n\u001b[32m      1\u001b[39m \u001b[38;5;28;01mimport\u001b[39;00m\u001b[38;5;250m \u001b[39m\u001b[34;01murllib\u001b[39;00m\u001b[34;01m.\u001b[39;00m\u001b[34;01mrequest\u001b[39;00m\n\u001b[32m      2\u001b[39m \u001b[38;5;66;03m#urllib.request.urlretrieve(\"https://raw.githubusercontent.com/sunnysai12345/News_headlines/master/news_headlines_more.csv\", filename=\"news_headlines_more.csv\")\u001b[39;00m\n\u001b[32m----> \u001b[39m\u001b[32m3\u001b[39m data = \u001b[43mpd\u001b[49m\u001b[43m.\u001b[49m\u001b[43mread_csv\u001b[49m\u001b[43m(\u001b[49m\u001b[33;43m'\u001b[39;49m\u001b[33;43mnews_headlines_more.csv\u001b[39;49m\u001b[33;43m'\u001b[39;49m\u001b[43m,\u001b[49m\u001b[43m \u001b[49m\u001b[43mencoding\u001b[49m\u001b[43m=\u001b[49m\u001b[33;43m'\u001b[39;49m\u001b[33;43miso-8859-1\u001b[39;49m\u001b[33;43m'\u001b[39;49m\u001b[43m)\u001b[49m\n",
      "\u001b[36mFile \u001b[39m\u001b[32m/opt/conda/lib/python3.12/site-packages/pandas/io/parsers/readers.py:1026\u001b[39m, in \u001b[36mread_csv\u001b[39m\u001b[34m(filepath_or_buffer, sep, delimiter, header, names, index_col, usecols, dtype, engine, converters, true_values, false_values, skipinitialspace, skiprows, skipfooter, nrows, na_values, keep_default_na, na_filter, verbose, skip_blank_lines, parse_dates, infer_datetime_format, keep_date_col, date_parser, date_format, dayfirst, cache_dates, iterator, chunksize, compression, thousands, decimal, lineterminator, quotechar, quoting, doublequote, escapechar, comment, encoding, encoding_errors, dialect, on_bad_lines, delim_whitespace, low_memory, memory_map, float_precision, storage_options, dtype_backend)\u001b[39m\n\u001b[32m   1013\u001b[39m kwds_defaults = _refine_defaults_read(\n\u001b[32m   1014\u001b[39m     dialect,\n\u001b[32m   1015\u001b[39m     delimiter,\n\u001b[32m   (...)\u001b[39m\u001b[32m   1022\u001b[39m     dtype_backend=dtype_backend,\n\u001b[32m   1023\u001b[39m )\n\u001b[32m   1024\u001b[39m kwds.update(kwds_defaults)\n\u001b[32m-> \u001b[39m\u001b[32m1026\u001b[39m \u001b[38;5;28;01mreturn\u001b[39;00m \u001b[43m_read\u001b[49m\u001b[43m(\u001b[49m\u001b[43mfilepath_or_buffer\u001b[49m\u001b[43m,\u001b[49m\u001b[43m \u001b[49m\u001b[43mkwds\u001b[49m\u001b[43m)\u001b[49m\n",
      "\u001b[36mFile \u001b[39m\u001b[32m/opt/conda/lib/python3.12/site-packages/pandas/io/parsers/readers.py:620\u001b[39m, in \u001b[36m_read\u001b[39m\u001b[34m(filepath_or_buffer, kwds)\u001b[39m\n\u001b[32m    617\u001b[39m _validate_names(kwds.get(\u001b[33m\"\u001b[39m\u001b[33mnames\u001b[39m\u001b[33m\"\u001b[39m, \u001b[38;5;28;01mNone\u001b[39;00m))\n\u001b[32m    619\u001b[39m \u001b[38;5;66;03m# Create the parser.\u001b[39;00m\n\u001b[32m--> \u001b[39m\u001b[32m620\u001b[39m parser = \u001b[43mTextFileReader\u001b[49m\u001b[43m(\u001b[49m\u001b[43mfilepath_or_buffer\u001b[49m\u001b[43m,\u001b[49m\u001b[43m \u001b[49m\u001b[43m*\u001b[49m\u001b[43m*\u001b[49m\u001b[43mkwds\u001b[49m\u001b[43m)\u001b[49m\n\u001b[32m    622\u001b[39m \u001b[38;5;28;01mif\u001b[39;00m chunksize \u001b[38;5;129;01mor\u001b[39;00m iterator:\n\u001b[32m    623\u001b[39m     \u001b[38;5;28;01mreturn\u001b[39;00m parser\n",
      "\u001b[36mFile \u001b[39m\u001b[32m/opt/conda/lib/python3.12/site-packages/pandas/io/parsers/readers.py:1620\u001b[39m, in \u001b[36mTextFileReader.__init__\u001b[39m\u001b[34m(self, f, engine, **kwds)\u001b[39m\n\u001b[32m   1617\u001b[39m     \u001b[38;5;28mself\u001b[39m.options[\u001b[33m\"\u001b[39m\u001b[33mhas_index_names\u001b[39m\u001b[33m\"\u001b[39m] = kwds[\u001b[33m\"\u001b[39m\u001b[33mhas_index_names\u001b[39m\u001b[33m\"\u001b[39m]\n\u001b[32m   1619\u001b[39m \u001b[38;5;28mself\u001b[39m.handles: IOHandles | \u001b[38;5;28;01mNone\u001b[39;00m = \u001b[38;5;28;01mNone\u001b[39;00m\n\u001b[32m-> \u001b[39m\u001b[32m1620\u001b[39m \u001b[38;5;28mself\u001b[39m._engine = \u001b[38;5;28;43mself\u001b[39;49m\u001b[43m.\u001b[49m\u001b[43m_make_engine\u001b[49m\u001b[43m(\u001b[49m\u001b[43mf\u001b[49m\u001b[43m,\u001b[49m\u001b[43m \u001b[49m\u001b[38;5;28;43mself\u001b[39;49m\u001b[43m.\u001b[49m\u001b[43mengine\u001b[49m\u001b[43m)\u001b[49m\n",
      "\u001b[36mFile \u001b[39m\u001b[32m/opt/conda/lib/python3.12/site-packages/pandas/io/parsers/readers.py:1880\u001b[39m, in \u001b[36mTextFileReader._make_engine\u001b[39m\u001b[34m(self, f, engine)\u001b[39m\n\u001b[32m   1878\u001b[39m     \u001b[38;5;28;01mif\u001b[39;00m \u001b[33m\"\u001b[39m\u001b[33mb\u001b[39m\u001b[33m\"\u001b[39m \u001b[38;5;129;01mnot\u001b[39;00m \u001b[38;5;129;01min\u001b[39;00m mode:\n\u001b[32m   1879\u001b[39m         mode += \u001b[33m\"\u001b[39m\u001b[33mb\u001b[39m\u001b[33m\"\u001b[39m\n\u001b[32m-> \u001b[39m\u001b[32m1880\u001b[39m \u001b[38;5;28mself\u001b[39m.handles = \u001b[43mget_handle\u001b[49m\u001b[43m(\u001b[49m\n\u001b[32m   1881\u001b[39m \u001b[43m    \u001b[49m\u001b[43mf\u001b[49m\u001b[43m,\u001b[49m\n\u001b[32m   1882\u001b[39m \u001b[43m    \u001b[49m\u001b[43mmode\u001b[49m\u001b[43m,\u001b[49m\n\u001b[32m   1883\u001b[39m \u001b[43m    \u001b[49m\u001b[43mencoding\u001b[49m\u001b[43m=\u001b[49m\u001b[38;5;28;43mself\u001b[39;49m\u001b[43m.\u001b[49m\u001b[43moptions\u001b[49m\u001b[43m.\u001b[49m\u001b[43mget\u001b[49m\u001b[43m(\u001b[49m\u001b[33;43m\"\u001b[39;49m\u001b[33;43mencoding\u001b[39;49m\u001b[33;43m\"\u001b[39;49m\u001b[43m,\u001b[49m\u001b[43m \u001b[49m\u001b[38;5;28;43;01mNone\u001b[39;49;00m\u001b[43m)\u001b[49m\u001b[43m,\u001b[49m\n\u001b[32m   1884\u001b[39m \u001b[43m    \u001b[49m\u001b[43mcompression\u001b[49m\u001b[43m=\u001b[49m\u001b[38;5;28;43mself\u001b[39;49m\u001b[43m.\u001b[49m\u001b[43moptions\u001b[49m\u001b[43m.\u001b[49m\u001b[43mget\u001b[49m\u001b[43m(\u001b[49m\u001b[33;43m\"\u001b[39;49m\u001b[33;43mcompression\u001b[39;49m\u001b[33;43m\"\u001b[39;49m\u001b[43m,\u001b[49m\u001b[43m \u001b[49m\u001b[38;5;28;43;01mNone\u001b[39;49;00m\u001b[43m)\u001b[49m\u001b[43m,\u001b[49m\n\u001b[32m   1885\u001b[39m \u001b[43m    \u001b[49m\u001b[43mmemory_map\u001b[49m\u001b[43m=\u001b[49m\u001b[38;5;28;43mself\u001b[39;49m\u001b[43m.\u001b[49m\u001b[43moptions\u001b[49m\u001b[43m.\u001b[49m\u001b[43mget\u001b[49m\u001b[43m(\u001b[49m\u001b[33;43m\"\u001b[39;49m\u001b[33;43mmemory_map\u001b[39;49m\u001b[33;43m\"\u001b[39;49m\u001b[43m,\u001b[49m\u001b[43m \u001b[49m\u001b[38;5;28;43;01mFalse\u001b[39;49;00m\u001b[43m)\u001b[49m\u001b[43m,\u001b[49m\n\u001b[32m   1886\u001b[39m \u001b[43m    \u001b[49m\u001b[43mis_text\u001b[49m\u001b[43m=\u001b[49m\u001b[43mis_text\u001b[49m\u001b[43m,\u001b[49m\n\u001b[32m   1887\u001b[39m \u001b[43m    \u001b[49m\u001b[43merrors\u001b[49m\u001b[43m=\u001b[49m\u001b[38;5;28;43mself\u001b[39;49m\u001b[43m.\u001b[49m\u001b[43moptions\u001b[49m\u001b[43m.\u001b[49m\u001b[43mget\u001b[49m\u001b[43m(\u001b[49m\u001b[33;43m\"\u001b[39;49m\u001b[33;43mencoding_errors\u001b[39;49m\u001b[33;43m\"\u001b[39;49m\u001b[43m,\u001b[49m\u001b[43m \u001b[49m\u001b[33;43m\"\u001b[39;49m\u001b[33;43mstrict\u001b[39;49m\u001b[33;43m\"\u001b[39;49m\u001b[43m)\u001b[49m\u001b[43m,\u001b[49m\n\u001b[32m   1888\u001b[39m \u001b[43m    \u001b[49m\u001b[43mstorage_options\u001b[49m\u001b[43m=\u001b[49m\u001b[38;5;28;43mself\u001b[39;49m\u001b[43m.\u001b[49m\u001b[43moptions\u001b[49m\u001b[43m.\u001b[49m\u001b[43mget\u001b[49m\u001b[43m(\u001b[49m\u001b[33;43m\"\u001b[39;49m\u001b[33;43mstorage_options\u001b[39;49m\u001b[33;43m\"\u001b[39;49m\u001b[43m,\u001b[49m\u001b[43m \u001b[49m\u001b[38;5;28;43;01mNone\u001b[39;49;00m\u001b[43m)\u001b[49m\u001b[43m,\u001b[49m\n\u001b[32m   1889\u001b[39m \u001b[43m\u001b[49m\u001b[43m)\u001b[49m\n\u001b[32m   1890\u001b[39m \u001b[38;5;28;01massert\u001b[39;00m \u001b[38;5;28mself\u001b[39m.handles \u001b[38;5;129;01mis\u001b[39;00m \u001b[38;5;129;01mnot\u001b[39;00m \u001b[38;5;28;01mNone\u001b[39;00m\n\u001b[32m   1891\u001b[39m f = \u001b[38;5;28mself\u001b[39m.handles.handle\n",
      "\u001b[36mFile \u001b[39m\u001b[32m/opt/conda/lib/python3.12/site-packages/pandas/io/common.py:873\u001b[39m, in \u001b[36mget_handle\u001b[39m\u001b[34m(path_or_buf, mode, encoding, compression, memory_map, is_text, errors, storage_options)\u001b[39m\n\u001b[32m    868\u001b[39m \u001b[38;5;28;01melif\u001b[39;00m \u001b[38;5;28misinstance\u001b[39m(handle, \u001b[38;5;28mstr\u001b[39m):\n\u001b[32m    869\u001b[39m     \u001b[38;5;66;03m# Check whether the filename is to be opened in binary mode.\u001b[39;00m\n\u001b[32m    870\u001b[39m     \u001b[38;5;66;03m# Binary mode does not support 'encoding' and 'newline'.\u001b[39;00m\n\u001b[32m    871\u001b[39m     \u001b[38;5;28;01mif\u001b[39;00m ioargs.encoding \u001b[38;5;129;01mand\u001b[39;00m \u001b[33m\"\u001b[39m\u001b[33mb\u001b[39m\u001b[33m\"\u001b[39m \u001b[38;5;129;01mnot\u001b[39;00m \u001b[38;5;129;01min\u001b[39;00m ioargs.mode:\n\u001b[32m    872\u001b[39m         \u001b[38;5;66;03m# Encoding\u001b[39;00m\n\u001b[32m--> \u001b[39m\u001b[32m873\u001b[39m         handle = \u001b[38;5;28;43mopen\u001b[39;49m\u001b[43m(\u001b[49m\n\u001b[32m    874\u001b[39m \u001b[43m            \u001b[49m\u001b[43mhandle\u001b[49m\u001b[43m,\u001b[49m\n\u001b[32m    875\u001b[39m \u001b[43m            \u001b[49m\u001b[43mioargs\u001b[49m\u001b[43m.\u001b[49m\u001b[43mmode\u001b[49m\u001b[43m,\u001b[49m\n\u001b[32m    876\u001b[39m \u001b[43m            \u001b[49m\u001b[43mencoding\u001b[49m\u001b[43m=\u001b[49m\u001b[43mioargs\u001b[49m\u001b[43m.\u001b[49m\u001b[43mencoding\u001b[49m\u001b[43m,\u001b[49m\n\u001b[32m    877\u001b[39m \u001b[43m            \u001b[49m\u001b[43merrors\u001b[49m\u001b[43m=\u001b[49m\u001b[43merrors\u001b[49m\u001b[43m,\u001b[49m\n\u001b[32m    878\u001b[39m \u001b[43m            \u001b[49m\u001b[43mnewline\u001b[49m\u001b[43m=\u001b[49m\u001b[33;43m\"\u001b[39;49m\u001b[33;43m\"\u001b[39;49m\u001b[43m,\u001b[49m\n\u001b[32m    879\u001b[39m \u001b[43m        \u001b[49m\u001b[43m)\u001b[49m\n\u001b[32m    880\u001b[39m     \u001b[38;5;28;01melse\u001b[39;00m:\n\u001b[32m    881\u001b[39m         \u001b[38;5;66;03m# Binary mode\u001b[39;00m\n\u001b[32m    882\u001b[39m         handle = \u001b[38;5;28mopen\u001b[39m(handle, ioargs.mode)\n",
      "\u001b[31mFileNotFoundError\u001b[39m: [Errno 2] No such file or directory: 'news_headlines_more.csv'"
     ]
    }
   ],
   "source": [
    "import urllib.request\n",
    "# urllib.request.urlretrieve(\"https://raw.githubusercontent.com/sunnysai12345/News_headlines/master/news_headlines_more.csv\", filename=\"news_headlines_more.csv\")\n",
    "data = pd.read_csv('news_headlines_more.csv', encoding='iso-8859-1')"
   ]
  },
  {
   "cell_type": "code",
   "execution_count": 6,
   "id": "fe84cadb-750d-4f6a-99f2-1c6d34f2b46e",
   "metadata": {},
   "outputs": [
    {
     "name": "stdout",
     "output_type": "stream",
     "text": [
      "/home/jovyan/work/workplace/AIFFEL_quest_rs/Exploration/Quest06\n"
     ]
    }
   ],
   "source": [
    "import os\n",
    "print(os.getcwd()) # 현재 작업 디렉터리 출력"
   ]
  },
  {
   "cell_type": "code",
   "execution_count": 7,
   "id": "7b9ab6c3-68ae-47bb-ac0a-a9da06c61501",
   "metadata": {},
   "outputs": [],
   "source": [
    "import pandas as pd\n",
    "\n",
    "# 올바른 파일 이름으로 수정\n",
    "data = pd.read_csv('news_summary_more.csv', encoding='iso-8859-1')"
   ]
  },
  {
   "cell_type": "code",
   "execution_count": 8,
   "id": "1a900273-b947-4a88-8775-7c5af83fba68",
   "metadata": {},
   "outputs": [
    {
     "data": {
      "text/html": [
       "<div>\n",
       "<style scoped>\n",
       "    .dataframe tbody tr th:only-of-type {\n",
       "        vertical-align: middle;\n",
       "    }\n",
       "\n",
       "    .dataframe tbody tr th {\n",
       "        vertical-align: top;\n",
       "    }\n",
       "\n",
       "    .dataframe thead th {\n",
       "        text-align: right;\n",
       "    }\n",
       "</style>\n",
       "<table border=\"1\" class=\"dataframe\">\n",
       "  <thead>\n",
       "    <tr style=\"text-align: right;\">\n",
       "      <th></th>\n",
       "      <th>headlines</th>\n",
       "      <th>text</th>\n",
       "    </tr>\n",
       "  </thead>\n",
       "  <tbody>\n",
       "    <tr>\n",
       "      <th>82239</th>\n",
       "      <td>Beech Beech Mein song from Jab Harry Met Sejal...</td>\n",
       "      <td>Beech Beech Mein, a new song from the Shah Ruk...</td>\n",
       "    </tr>\n",
       "    <tr>\n",
       "      <th>57818</th>\n",
       "      <td>MP death penalty bill for child rapists regres...</td>\n",
       "      <td>Human Rights NGO Amnesty International India o...</td>\n",
       "    </tr>\n",
       "    <tr>\n",
       "      <th>70693</th>\n",
       "      <td>There should be more women employees in school...</td>\n",
       "      <td>HRD Minister Prakash Javadekar on Monday said,...</td>\n",
       "    </tr>\n",
       "    <tr>\n",
       "      <th>56436</th>\n",
       "      <td>Parliament's 2017 Winter Session to be shortes...</td>\n",
       "      <td>This year's Winter Session of the Parliament, ...</td>\n",
       "    </tr>\n",
       "    <tr>\n",
       "      <th>63908</th>\n",
       "      <td>WhatsApp rolls out feature to delete sent mess...</td>\n",
       "      <td>WhatsApp has started rolling out a feature tha...</td>\n",
       "    </tr>\n",
       "    <tr>\n",
       "      <th>24573</th>\n",
       "      <td>My primary work is art, not to earn trophies: ...</td>\n",
       "      <td>Actor-writer Saurabh Shukla, who was honoured ...</td>\n",
       "    </tr>\n",
       "    <tr>\n",
       "      <th>94674</th>\n",
       "      <td>PMO helps man file FIR after he writes to Modi</td>\n",
       "      <td>The Prime Minister's Office helped a man file ...</td>\n",
       "    </tr>\n",
       "    <tr>\n",
       "      <th>2785</th>\n",
       "      <td>Coach sexually abused me since I was 17: 21-yr...</td>\n",
       "      <td>South Korea's double Olympic short track gold ...</td>\n",
       "    </tr>\n",
       "    <tr>\n",
       "      <th>39387</th>\n",
       "      <td>Poster of 'Sanju' featuring Dia as Dutt's wife...</td>\n",
       "      <td>A new poster of Sanjay Dutt's biopic 'Sanju', ...</td>\n",
       "    </tr>\n",
       "    <tr>\n",
       "      <th>89750</th>\n",
       "      <td>4 teachers suspended for asking a NEET entrant...</td>\n",
       "      <td>At least four Kerala school teachers were on T...</td>\n",
       "    </tr>\n",
       "  </tbody>\n",
       "</table>\n",
       "</div>"
      ],
      "text/plain": [
       "                                               headlines  \\\n",
       "82239  Beech Beech Mein song from Jab Harry Met Sejal...   \n",
       "57818  MP death penalty bill for child rapists regres...   \n",
       "70693  There should be more women employees in school...   \n",
       "56436  Parliament's 2017 Winter Session to be shortes...   \n",
       "63908  WhatsApp rolls out feature to delete sent mess...   \n",
       "24573  My primary work is art, not to earn trophies: ...   \n",
       "94674     PMO helps man file FIR after he writes to Modi   \n",
       "2785   Coach sexually abused me since I was 17: 21-yr...   \n",
       "39387  Poster of 'Sanju' featuring Dia as Dutt's wife...   \n",
       "89750  4 teachers suspended for asking a NEET entrant...   \n",
       "\n",
       "                                                    text  \n",
       "82239  Beech Beech Mein, a new song from the Shah Ruk...  \n",
       "57818  Human Rights NGO Amnesty International India o...  \n",
       "70693  HRD Minister Prakash Javadekar on Monday said,...  \n",
       "56436  This year's Winter Session of the Parliament, ...  \n",
       "63908  WhatsApp has started rolling out a feature tha...  \n",
       "24573  Actor-writer Saurabh Shukla, who was honoured ...  \n",
       "94674  The Prime Minister's Office helped a man file ...  \n",
       "2785   South Korea's double Olympic short track gold ...  \n",
       "39387  A new poster of Sanjay Dutt's biopic 'Sanju', ...  \n",
       "89750  At least four Kerala school teachers were on T...  "
      ]
     },
     "execution_count": 8,
     "metadata": {},
     "output_type": "execute_result"
    }
   ],
   "source": [
    "data.sample(10)"
   ]
  },
  {
   "cell_type": "code",
   "execution_count": 9,
   "id": "38f51ac1-7988-4fd9-945b-880e330f18b5",
   "metadata": {},
   "outputs": [],
   "source": [
    "# 이 데이터는 기사의 본문에 해당되는 text와 headlines 두 가지 열로 구성되어져 있다.\n",
    "\n",
    "# 추상적 요약을 하는 경우에는 text를 본문, \n",
    "# headlines를 이미 요약된 데이터로 삼아서 모델을 학습할 수 있다. \n",
    "# 추출적 요약을 하는 경우에는 오직 text열만을 사용한다."
   ]
  },
  {
   "cell_type": "code",
   "execution_count": 10,
   "id": "36a05fb2-0266-46e2-bdc1-900662427664",
   "metadata": {},
   "outputs": [],
   "source": [
    "#Step 2. 데이터 전처리하기 (추상적 요약)\n",
    "\n",
    "# 분석단계 \n",
    "# 정제단계\n",
    "# 정규화와 불용어 제거 \n",
    "    #불용어 제거를 선택한다면 상대적으로 길이가 짧은 요약 데이터에 대해서도 불용어를 제거하는 것이 좋을지 고민\n",
    "# 데이터셋 분리 \n",
    "# 인코딩 과정\n"
   ]
  },
  {
   "cell_type": "code",
   "execution_count": 11,
   "id": "109adacd-26c8-4e07-9ea0-97d31d7df029",
   "metadata": {},
   "outputs": [
    {
     "name": "stdout",
     "output_type": "stream",
     "text": [
      "전체 샘플수 : 98401\n",
      "text 열에서 중복을 배제한 유일한 샘플의 수 : 98360\n",
      "headlines 열에서 중복을 배제한 유일한 샘플의 수 : 98280\n"
     ]
    }
   ],
   "source": [
    "#분석\n",
    "\n",
    "#데이터 갯수 확인\n",
    "print('전체 샘플수 :', (len(data)))\n",
    "\n",
    "#데이터 중복 유무 확인\n",
    "print('text 열에서 중복을 배제한 유일한 샘플의 수 :', data['text'].nunique())\n",
    "print('headlines 열에서 중복을 배제한 유일한 샘플의 수 :', data['headlines'].nunique())\n"
   ]
  },
  {
   "cell_type": "code",
   "execution_count": 12,
   "id": "92da81bd-7b73-47ca-9d2e-bf25a31f89e1",
   "metadata": {},
   "outputs": [
    {
     "name": "stdout",
     "output_type": "stream",
     "text": [
      "전체 샘플수 : 98360\n"
     ]
    }
   ],
   "source": [
    "#정제\n",
    "\n",
    "#중복 제거 \n",
    "# inplace=True 를 설정하면 DataFrame 타입 값을 return 하지 않고 data 내부를 직접적으로 바꿉니다\n",
    "data.drop_duplicates(subset = ['text'], inplace=True)\n",
    "\n",
    "print('전체 샘플수 :', (len(data)))"
   ]
  },
  {
   "cell_type": "code",
   "execution_count": 13,
   "id": "726bbc38-4797-4221-992f-1f57128670cf",
   "metadata": {},
   "outputs": [
    {
     "name": "stdout",
     "output_type": "stream",
     "text": [
      "headlines    0\n",
      "text         0\n",
      "dtype: int64\n"
     ]
    }
   ],
   "source": [
    "#nul 값확인\n",
    "print(data.isnull().sum())\n",
    " #확인 결과 nul값 없음"
   ]
  },
  {
   "cell_type": "code",
   "execution_count": 14,
   "id": "29d774b3-db8a-4218-b70a-86217974191e",
   "metadata": {},
   "outputs": [
    {
     "name": "stdout",
     "output_type": "stream",
     "text": [
      "정규화 사전의 수:  120\n"
     ]
    }
   ],
   "source": [
    "# 정규화를 위한 사전 구성\n",
    "contractions = {\"ain't\": \"is not\", \"aren't\": \"are not\",\"can't\": \"cannot\", \"'cause\": \"because\", \"could've\": \"could have\", \"couldn't\": \"could not\",\n",
    "                           \"didn't\": \"did not\",  \"doesn't\": \"does not\", \"don't\": \"do not\", \"hadn't\": \"had not\", \"hasn't\": \"has not\", \"haven't\": \"have not\",\n",
    "                           \"he'd\": \"he would\",\"he'll\": \"he will\", \"he's\": \"he is\", \"how'd\": \"how did\", \"how'd'y\": \"how do you\", \"how'll\": \"how will\", \"how's\": \"how is\",\n",
    "                           \"I'd\": \"I would\", \"I'd've\": \"I would have\", \"I'll\": \"I will\", \"I'll've\": \"I will have\",\"I'm\": \"I am\", \"I've\": \"I have\", \"i'd\": \"i would\",\n",
    "                           \"i'd've\": \"i would have\", \"i'll\": \"i will\",  \"i'll've\": \"i will have\",\"i'm\": \"i am\", \"i've\": \"i have\", \"isn't\": \"is not\", \"it'd\": \"it would\",\n",
    "                           \"it'd've\": \"it would have\", \"it'll\": \"it will\", \"it'll've\": \"it will have\",\"it's\": \"it is\", \"let's\": \"let us\", \"ma'am\": \"madam\",\n",
    "                           \"mayn't\": \"may not\", \"might've\": \"might have\",\"mightn't\": \"might not\",\"mightn't've\": \"might not have\", \"must've\": \"must have\",\n",
    "                           \"mustn't\": \"must not\", \"mustn't've\": \"must not have\", \"needn't\": \"need not\", \"needn't've\": \"need not have\",\"o'clock\": \"of the clock\",\n",
    "                           \"oughtn't\": \"ought not\", \"oughtn't've\": \"ought not have\", \"shan't\": \"shall not\", \"sha'n't\": \"shall not\", \"shan't've\": \"shall not have\",\n",
    "                           \"she'd\": \"she would\", \"she'd've\": \"she would have\", \"she'll\": \"she will\", \"she'll've\": \"she will have\", \"she's\": \"she is\",\n",
    "                           \"should've\": \"should have\", \"shouldn't\": \"should not\", \"shouldn't've\": \"should not have\", \"so've\": \"so have\",\"so's\": \"so as\",\n",
    "                           \"this's\": \"this is\",\"that'd\": \"that would\", \"that'd've\": \"that would have\", \"that's\": \"that is\", \"there'd\": \"there would\",\n",
    "                           \"there'd've\": \"there would have\", \"there's\": \"there is\", \"here's\": \"here is\",\"they'd\": \"they would\", \"they'd've\": \"they would have\",\n",
    "                           \"they'll\": \"they will\", \"they'll've\": \"they will have\", \"they're\": \"they are\", \"they've\": \"they have\", \"to've\": \"to have\",\n",
    "                           \"wasn't\": \"was not\", \"we'd\": \"we would\", \"we'd've\": \"we would have\", \"we'll\": \"we will\", \"we'll've\": \"we will have\", \"we're\": \"we are\",\n",
    "                           \"we've\": \"we have\", \"weren't\": \"were not\", \"what'll\": \"what will\", \"what'll've\": \"what will have\", \"what're\": \"what are\",\n",
    "                           \"what's\": \"what is\", \"what've\": \"what have\", \"when's\": \"when is\", \"when've\": \"when have\", \"where'd\": \"where did\", \"where's\": \"where is\",\n",
    "                           \"where've\": \"where have\", \"who'll\": \"who will\", \"who'll've\": \"who will have\", \"who's\": \"who is\", \"who've\": \"who have\",\n",
    "                           \"why's\": \"why is\", \"why've\": \"why have\", \"will've\": \"will have\", \"won't\": \"will not\", \"won't've\": \"will not have\",\n",
    "                           \"would've\": \"would have\", \"wouldn't\": \"would not\", \"wouldn't've\": \"would not have\", \"y'all\": \"you all\",\n",
    "                           \"y'all'd\": \"you all would\",\"y'all'd've\": \"you all would have\",\"y'all're\": \"you all are\",\"y'all've\": \"you all have\",\n",
    "                           \"you'd\": \"you would\", \"you'd've\": \"you would have\", \"you'll\": \"you will\", \"you'll've\": \"you will have\",\n",
    "                           \"you're\": \"you are\", \"you've\": \"you have\"}\n",
    "\n",
    "print(\"정규화 사전의 수: \", len(contractions))"
   ]
  },
  {
   "cell_type": "code",
   "execution_count": 15,
   "id": "a2ea9700-6e18-4cd8-a48d-9d6459b8746a",
   "metadata": {},
   "outputs": [
    {
     "name": "stdout",
     "output_type": "stream",
     "text": [
      "불용어 개수 : 198\n",
      "['a', 'about', 'above', 'after', 'again', 'against', 'ain', 'all', 'am', 'an', 'and', 'any', 'are', 'aren', \"aren't\", 'as', 'at', 'be', 'because', 'been', 'before', 'being', 'below', 'between', 'both', 'but', 'by', 'can', 'couldn', \"couldn't\", 'd', 'did', 'didn', \"didn't\", 'do', 'does', 'doesn', \"doesn't\", 'doing', 'don', \"don't\", 'down', 'during', 'each', 'few', 'for', 'from', 'further', 'had', 'hadn', \"hadn't\", 'has', 'hasn', \"hasn't\", 'have', 'haven', \"haven't\", 'having', 'he', \"he'd\", \"he'll\", 'her', 'here', 'hers', 'herself', \"he's\", 'him', 'himself', 'his', 'how', 'i', \"i'd\", 'if', \"i'll\", \"i'm\", 'in', 'into', 'is', 'isn', \"isn't\", 'it', \"it'd\", \"it'll\", \"it's\", 'its', 'itself', \"i've\", 'just', 'll', 'm', 'ma', 'me', 'mightn', \"mightn't\", 'more', 'most', 'mustn', \"mustn't\", 'my', 'myself', 'needn', \"needn't\", 'no', 'nor', 'not', 'now', 'o', 'of', 'off', 'on', 'once', 'only', 'or', 'other', 'our', 'ours', 'ourselves', 'out', 'over', 'own', 're', 's', 'same', 'shan', \"shan't\", 'she', \"she'd\", \"she'll\", \"she's\", 'should', 'shouldn', \"shouldn't\", \"should've\", 'so', 'some', 'such', 't', 'than', 'that', \"that'll\", 'the', 'their', 'theirs', 'them', 'themselves', 'then', 'there', 'these', 'they', \"they'd\", \"they'll\", \"they're\", \"they've\", 'this', 'those', 'through', 'to', 'too', 'under', 'until', 'up', 've', 'very', 'was', 'wasn', \"wasn't\", 'we', \"we'd\", \"we'll\", \"we're\", 'were', 'weren', \"weren't\", \"we've\", 'what', 'when', 'where', 'which', 'while', 'who', 'whom', 'why', 'will', 'with', 'won', \"won't\", 'wouldn', \"wouldn't\", 'y', 'you', \"you'd\", \"you'll\", 'your', \"you're\", 'yours', 'yourself', 'yourselves', \"you've\"]\n"
     ]
    },
    {
     "name": "stderr",
     "output_type": "stream",
     "text": [
      "[nltk_data] Downloading package stopwords to /home/jovyan/nltk_data...\n",
      "[nltk_data]   Package stopwords is already up-to-date!\n"
     ]
    }
   ],
   "source": [
    "import nltk\n",
    "nltk.download('stopwords')\n",
    "from nltk.corpus import stopwords\n",
    "\n",
    "print('불용어 개수 :', len(stopwords.words('english') ))\n",
    "print(stopwords.words('english'))"
   ]
  },
  {
   "cell_type": "code",
   "execution_count": 16,
   "id": "6669e6ef-f902-46fd-a1ce-26b3a5b2fd41",
   "metadata": {},
   "outputs": [],
   "source": [
    "import re\n",
    "from bs4 import BeautifulSoup\n",
    "from nltk.corpus import stopwords"
   ]
  },
  {
   "cell_type": "code",
   "execution_count": 17,
   "id": "a509fb5c-989d-46f0-a324-6a2e22616b9c",
   "metadata": {},
   "outputs": [
    {
     "name": "stdout",
     "output_type": "stream",
     "text": [
      "=3\n"
     ]
    }
   ],
   "source": [
    "# 데이터 전처리 함수 준비\n",
    "def preprocess_sentence(sentence, remove_stopwords=True):\n",
    "    sentence = sentence.lower() # 텍스트 소문자화\n",
    "    sentence = BeautifulSoup(sentence, \"lxml\").text # <br />, <a href = ...> 등의 html 태그 제거\n",
    "    sentence = re.sub(r'\\([^)]*\\)', '', sentence) # 괄호로 닫힌 문자열 (...) 제거 Ex) my husband (and myself!) for => my husband for\n",
    "    sentence = re.sub('\"','', sentence) # 쌍따옴표 \" 제거\n",
    "    sentence = ' '.join([contractions[t] if t in contractions else t for t in sentence.split(\" \")]) # 약어 정규화\n",
    "    sentence = re.sub(r\"'s\\b\",\"\", sentence) # 소유격 제거. Ex) roland's -> roland\n",
    "    sentence = re.sub(\"[^a-zA-Z]\", \" \", sentence) # 영어 외 문자(숫자, 특수문자 등) 공백으로 변환\n",
    "    sentence = re.sub('[m]{2,}', 'mm', sentence) # m이 3개 이상이면 2개로 변경. Ex) ummmmmmm yeah -> umm yeah\n",
    "\n",
    "    # 불용어 제거 (text)\n",
    "    if remove_stopwords:\n",
    "        tokens = ' '.join(word for word in sentence.split() if not word in stopwords.words('english') if len(word) > 1)\n",
    "    # 불용어 미제거 (길이가 짧은 headlines에서는 의미가 왜곡될 수 있으니 불용어 미제거 )\n",
    "    else:\n",
    "        tokens = ' '.join(word for word in sentence.split() if len(word) > 1)\n",
    "    return tokens\n",
    "print('=3')"
   ]
  },
  {
   "cell_type": "code",
   "execution_count": 18,
   "id": "cf454b09-d269-48f2-b4ca-6f595d90a3e4",
   "metadata": {},
   "outputs": [],
   "source": [
    "#!pip install lxml"
   ]
  },
  {
   "cell_type": "code",
   "execution_count": 19,
   "id": "29a5ed4f-b5f6-4202-ac1f-32363f392ecd",
   "metadata": {},
   "outputs": [
    {
     "name": "stdout",
     "output_type": "stream",
     "text": [
      "text:  everything bought great infact ordered twice third ordered wasfor mother father\n",
      "headlines: great way to start the day\n"
     ]
    }
   ],
   "source": [
    "# 전처리 결과 샘플링 확\n",
    "\n",
    "temp_text = 'Everything I bought was great, infact I ordered twice and the third ordered was<br />for my mother and father.'\n",
    "temp_headlines = 'Great way to start (or finish) the day!!!'\n",
    "\n",
    "print(\"text: \", preprocess_sentence(temp_text))\n",
    "print(\"headlines:\", preprocess_sentence(temp_headlines, False))  # 불용어를 제거하지 않습니다."
   ]
  },
  {
   "cell_type": "code",
   "execution_count": 20,
   "id": "e5914649-6a64-4596-b0bd-660366cf7dae",
   "metadata": {},
   "outputs": [],
   "source": [
    "# 결과를 보면 기본적으로 모든 알파벳이 소문자로 변환되고, <br />과 같은 html 태그가 제거되었다. \n",
    "# (or finish)와 같은 괄호로 묶였던 단어 시퀀스가 제거된 것도 확인할 수 있다. \n",
    "# 또한 특수문자가 제거되면서 영어만 남았다.\n",
    "\n",
    "# 이제 함수가 잘 작동하는 것을 확인했으니, 훈련 데이터 전체에 대해서 전처리를 수행해볼게요. \n",
    "# 이때, text의 경우에는 불용어를 제거하고, headlines의 경우에는 불용어를 제거하지 않을 것이므로 따로 호출해서 진행함. \n",
    "# 먼저 text를 전처리하고, 결과를 확인하기 위해서 상위 5개의 줄을 출력해볼게요."
   ]
  },
  {
   "cell_type": "code",
   "execution_count": 21,
   "id": "d8fdaa74-5b31-4f4a-b649-0d0e429114f1",
   "metadata": {},
   "outputs": [
    {
     "name": "stdout",
     "output_type": "stream",
     "text": [
      "text 전처리 후 결과:  ['saurav kant alumnus upgrad iiit pg program machine learning artificial intelligence sr systems engineer infosys almost years work experience program upgrad degree career support helped transition data scientist tech mahindra salary hike upgrad online power learning powered lakh careers', 'kunal shah credit card bill payment platform cred gave users chance win free food swiggy one year pranav kaushik delhi techie bagged reward spending cred coins users get one cred coin per rupee bill paid used avail rewards brands like ixigo bookmyshow ubereats cult fit', 'new zealand defeated india wickets fourth odi hamilton thursday win first match five match odi series india lost international match rohit sharma captaincy consecutive victories dating back march match witnessed india getting seventh lowest total odi cricket history', 'aegon life iterm insurance plan customers enjoy tax benefits premiums paid save taxes plan provides life cover age years also customers options insure critical illnesses disability accidental death benefit rider life cover age years', 'speaking sexual harassment allegations rajkumar hirani sonam kapoor said known hirani many years true metoo movement get derailed metoo movement always believe woman case need reserve judgment added hirani accused assistant worked sanju']\n"
     ]
    }
   ],
   "source": [
    "# 원문(text)데이터 전처리\n",
    "\n",
    "# 'clean_text'라는 이름의 빈 리스트를 생성합니다.\n",
    "clean_text = []\n",
    "\n",
    "# 'data' 데이터프레임의 'text' 열에 있는 모든 문장에 대해 반복 작업을 수행합니다.\n",
    "for sentence in data['text']:\n",
    "    # 각 문장을 'preprocess_sentence()' 함수에 넣어 전처리하고, 그 결과를 'clean_text' 리스트에 추가합니다.\n",
    "    clean_text.append(preprocess_sentence(sentence))\n",
    "\n",
    "# 전처리 작업이 완료된 'clean_text' 리스트의 첫 5개 항목을 출력합니다.\n",
    "print(\"text 전처리 후 결과: \", clean_text[:5])"
   ]
  },
  {
   "cell_type": "code",
   "execution_count": 22,
   "id": "e1cf2319-e4d7-423b-9193-7027b74216fc",
   "metadata": {},
   "outputs": [
    {
     "name": "stdout",
     "output_type": "stream",
     "text": [
      "headlines 전처리 후 결과:  ['upgrad learner switches to career in ml al with salary hike', 'delhi techie wins free food from swiggy for one year on cred', 'new zealand end rohit sharma led india match winning streak', 'aegon life iterm insurance plan helps customers save tax', 'have known hirani for yrs what if metoo claims are not true sonam']\n"
     ]
    }
   ],
   "source": [
    "# 요약문(headlines) 데이터 전처리(불용어 미제거)\n",
    "\n",
    "# 전체 headlines 데이터에 대한 전처리 : 5분 이상 시간이 걸릴 수 있습니다.\n",
    "clean_headlines = []\n",
    "\n",
    "for sentence in data['headlines']:\n",
    "    clean_headlines.append(preprocess_sentence(sentence, remove_stopwords=False))\n",
    "\n",
    "print(\"headlines 전처리 후 결과: \", clean_headlines[:5])"
   ]
  },
  {
   "cell_type": "code",
   "execution_count": 23,
   "id": "b2d46fc8-4082-4458-a179-768c2cfd2e42",
   "metadata": {},
   "outputs": [
    {
     "data": {
      "text/plain": [
       "headlines    0\n",
       "text         0\n",
       "dtype: int64"
      ]
     },
     "execution_count": 23,
     "metadata": {},
     "output_type": "execute_result"
    }
   ],
   "source": [
    "# nul 값확인\n",
    "\n",
    "data.isnull().sum()"
   ]
  },
  {
   "cell_type": "code",
   "execution_count": 24,
   "id": "157402f4-3d22-4eff-b302-101f2d572446",
   "metadata": {},
   "outputs": [],
   "source": [
    "#데이터셋 분리\n",
    "\n",
    "    # 훈련데이터와 테스트데이터 나누기\n",
    "        # 학습을 진행하기 위해서는 학습에 사용할 데이터의 크기를 결정하고, 문장의 시작과 끝을 표시해 줌.\n",
    "    \n",
    "    # 샘플의 최대 길이 정하기\n",
    "        # text와 headlines의 최소, 최대, 평균 길이를 구하고 또한 길이 분포를 시각화."
   ]
  },
  {
   "cell_type": "code",
   "execution_count": 25,
   "id": "2096a0f6-4621-46b6-99d2-a2ff2469c208",
   "metadata": {},
   "outputs": [
    {
     "name": "stdout",
     "output_type": "stream",
     "text": [
      "텍스트의 최소 길이 : 1\n",
      "텍스트의 최대 길이 : 91\n",
      "텍스트의 평균 길이 : 58.23813542090281\n",
      "요약의 최소 길이 : 1\n",
      "요약의 최대 길이 : 18\n",
      "요약의 평균 길이 : 9.553660024400163\n"
     ]
    },
    {
     "data": {
      "image/png": "[encoded data removed]",
      "text/plain": [
       "<Figure size 640x480 with 2 Axes>"
      ]
     },
     "metadata": {},
     "output_type": "display_data"
    },
    {
     "data": {
      "image/png": "[encoded data removed]",
      "text/plain": [
       "<Figure size 640x480 with 1 Axes>"
      ]
     },
     "metadata": {},
     "output_type": "display_data"
    },
    {
     "data": {
      "image/png": "[encoded data removed]",
      "text/plain": [
       "<Figure size 640x480 with 1 Axes>"
      ]
     },
     "metadata": {},
     "output_type": "display_data"
    }
   ],
   "source": [
    "# 길이 분포 출력\n",
    "import matplotlib.pyplot as plt\n",
    "import numpy as np\n",
    "\n",
    "text_len = [len(s.split()) for s in data['text']]\n",
    "headlines_len = [len(s.split()) for s in data['headlines']]\n",
    "\n",
    "print('텍스트의 최소 길이 : {}'.format(np.min(text_len)))\n",
    "print('텍스트의 최대 길이 : {}'.format(np.max(text_len)))\n",
    "print('텍스트의 평균 길이 : {}'.format(np.mean(text_len)))\n",
    "print('요약의 최소 길이 : {}'.format(np.min(headlines_len)))\n",
    "print('요약의 최대 길이 : {}'.format(np.max(headlines_len)))\n",
    "print('요약의 평균 길이 : {}'.format(np.mean(headlines_len)))\n",
    "\n",
    "plt.subplot(1,2,1)\n",
    "plt.boxplot(text_len)\n",
    "plt.title('text')\n",
    "plt.subplot(1,2,2)\n",
    "plt.boxplot(headlines_len)\n",
    "plt.title('headlines')\n",
    "plt.tight_layout()\n",
    "plt.show()\n",
    "\n",
    "plt.title('text')\n",
    "plt.hist(text_len, bins = 40)\n",
    "plt.xlabel('length of samples')\n",
    "plt.ylabel('number of samples')\n",
    "plt.show()\n",
    "\n",
    "plt.title('headlines')\n",
    "plt.hist(headlines_len, bins = 40)\n",
    "plt.xlabel('length of samples')\n",
    "plt.ylabel('number of samples')\n",
    "plt.show()"
   ]
  },
  {
   "cell_type": "code",
   "execution_count": 26,
   "id": "052f9ea3-fdf1-4697-83ad-81dd2e55618f",
   "metadata": {},
   "outputs": [],
   "source": [
    "# 텍스트의 최소 길이 : 1\n",
    "# 텍스트의 최대 길이 : 91\n",
    "# 텍스트의 평균 길이 : 58.23813542090281\n",
    "# 요약의 최소 길이 : 1\n",
    "# 요약의 최대 길이 : 18\n",
    "# 요약의 평균 길이 : 9.553660024400163\n",
    "\n",
    "# text\n",
    "# 최소 길이 1 최대 길이는 91 평균길이는 58.23로 차이가 비교적 크지 않은 듯.\n",
    "# 그러나 박스 플롯 그래프로 보면 대분이 50~60사이 분포된 것으로 보인다.\n",
    "# 70을 넘는 값과 20 미만의 값은 이상치(outlier)로 판단할 수 있음.\n",
    "\n",
    "# headlines\n",
    "# 최소 길이 1 최대 길이는 18 평균길이는 9.58.\n",
    "# 박스플롯은 text에 비해서는 분포가 안정적이지만 대부분의 데이터가 9~ 10단어사이에 분포하고 있다.\n",
    "# 길이가 5미만이거나 12이상인 값들은 이상치로 판단할 수 있음.\n"
   ]
  },
  {
   "cell_type": "code",
   "execution_count": 27,
   "id": "5c9595a6-e617-47ea-bf80-a1df602f3aa0",
   "metadata": {},
   "outputs": [
    {
     "name": "stdout",
     "output_type": "stream",
     "text": [
      "text IQR: 3.0\n",
      "Lower bound for text outliers: 52.5\n",
      "Upper bound for text outliers: 64.5\n",
      "Number of text outliers: 3635\n",
      "Number of remove text outliers: 3\n",
      "headlines_IQR: 1.0\n",
      "Lower bound for headlines_outliers: 7.5\n",
      "Upper bound for headlines_outliers: 11.5\n",
      "Number of headlines outliers: 15630\n",
      "Number of remove headlines outliers: 2295\n"
     ]
    }
   ],
   "source": [
    "#text IQR(사분위 범위)과 이상치 개수\n",
    "text_Q1 = np.quantile(text_len, 0.25)\n",
    "text_Q3 = np.quantile(text_len, 0.75)\n",
    "text_IQR = text_Q3 - text_Q1\n",
    "\n",
    "text_lower_bound = text_Q1 - 1.5 * text_IQR\n",
    "text_upper_bound = text_Q3 + 1.5 * text_IQR\n",
    "\n",
    "print(f\"text IQR: {text_IQR}\")\n",
    "print(f\"Lower bound for text outliers: {text_lower_bound}\")\n",
    "print(f\"Upper bound for text outliers: {text_upper_bound}\")\n",
    "\n",
    "# 특이값 수 확인\n",
    "text_outliers = [length for length in text_len if length < text_lower_bound or length > text_upper_bound]\n",
    "print(f\"Number of text outliers: {len(text_outliers)}\")\n",
    "\n",
    "# 임의의 제거 기준\n",
    "text_max_len = 70\n",
    "text_min_len = 40\n",
    "\n",
    "# 제거 대상 수 확인\n",
    "remove_text_outliers = [length for length in text_len if length < text_min_len or length > text_max_len]\n",
    "print(f\"Number of remove text outliers: {len(remove_text_outliers)}\")\n",
    "\n",
    "\n",
    "#headlines IQR(사분위 범위)과 이상치 개수\n",
    "\n",
    "headlines_Q1 = np.quantile(headlines_len, 0.25)\n",
    "headlines_Q3 = np.quantile(headlines_len, 0.75)\n",
    "headlines_IQR = headlines_Q3 - headlines_Q1\n",
    "\n",
    "headlines_lower_bound = headlines_Q1 - 1.5 * headlines_IQR\n",
    "headlines_upper_bound = headlines_Q3 + 1.5 * headlines_IQR\n",
    "\n",
    "print(f\"headlines_IQR: {headlines_IQR}\")\n",
    "print(f\"Lower bound for headlines_outliers: {headlines_lower_bound}\")\n",
    "print(f\"Upper bound for headlines_outliers: {headlines_upper_bound}\")\n",
    "\n",
    "# 특이값 확인\n",
    "headlines_outliers = [length for length in headlines_len if length < headlines_lower_bound or length > headlines_upper_bound]\n",
    "print(f\"Number of headlines outliers: {len(headlines_outliers)}\")\n",
    "\n",
    "# 임의의 제거 기준\n",
    "headlines_max_len = 12\n",
    "headlines_min_len = 5\n",
    "\n",
    "# 제거 대상 수 확인\n",
    "remove_headlines_outliers = [length for length in headlines_len if length < headlines_min_len or length > headlines_max_len]\n",
    "print(f\"Number of remove headlines outliers: {len(remove_headlines_outliers)}\")"
   ]
  },
  {
   "cell_type": "code",
   "execution_count": 28,
   "id": "fc1b3744-d3c0-48fb-94b9-64ef9f85a913",
   "metadata": {},
   "outputs": [],
   "source": [
    "#text \n",
    " #IQR: 3.0: 데이터의 중간 50%가 3.0이라는 매우 좁은 범위(단어 3개정도의 길이 차이가 있을 뿐) 내에 분포하고 있음.\n",
    " #이는 데이터가 중앙값을 중심으로 매우 밀집되어 있음을 나타냄.\n",
    " #데이터 이상치 표준 규칙에 의한 수치 52.5<x<64.5를 참고하였으나 대부분이 중앙에 집중된 데이터 분포로 보수적으로 제거 기준을 잡음\n",
    " #이상치 제거 기준을 40이하 70이상의 길이로 잡았을 때 제거되는 수는 단지 3개\n",
    "\n",
    "#headlines\n",
    " #데이터 이상치 표준 규칙에 의한 수치 7.5<x<11.5를 참고하였으나 대부분이 중앙에 집중된 데이터 분포로 보수적으로 제거 기준을 잡음\n",
    " #이상치 제거 기준을 5이하 12이상의 길이로 잡았을 때 제거되는 수는 단지 2295개"
   ]
  },
  {
   "cell_type": "code",
   "execution_count": 29,
   "id": "e7f79169-b39b-4739-b2df-ca418e580fc6",
   "metadata": {},
   "outputs": [
    {
     "name": "stdout",
     "output_type": "stream",
     "text": [
      "전체 샘플수 : 96063\n"
     ]
    }
   ],
   "source": [
    "#이상치 제거 \n",
    "\n",
    "# 'data' 데이터프레임에서 'text' 열의 단어 수가 'text_min_len'보다 크거나 같은 행 & 'text_max_len'보다 작거나 같은 행만 선택하여 \n",
    " #'data'에 다시 할당합니다.\n",
    "remove_text_len = data['text'].apply(lambda x: len(x.split()))\n",
    "data = data[(remove_text_len >= text_min_len) & (remove_text_len <= text_max_len)]\n",
    "\n",
    "# 'data' 데이터프레임에서 'headlines' 열의 단어 수가 'headlines_min_len'보다 크거나 같은 행 & 'headlines_max_len'보다 작거나 같은 행만 선택하여\n",
    " #'data'에 다시 할당합니다.\n",
    "remove_headlines_len = data['headlines'].apply(lambda x: len(x.split()))\n",
    "data = data[(remove_headlines_len >= headlines_min_len) & (remove_headlines_len <= headlines_max_len)]\n",
    "\n",
    "# 위의 두 조건을 모두 만족하는 최종 샘플의 개수를 출력합니다.\n",
    "print('전체 샘플수 :', (len(data)))"
   ]
  },
  {
   "cell_type": "code",
   "execution_count": 30,
   "id": "bc122e35-6f2a-4bdf-9a44-2943d6c47436",
   "metadata": {},
   "outputs": [
    {
     "data": {
      "text/html": [
       "<div>\n",
       "<style scoped>\n",
       "    .dataframe tbody tr th:only-of-type {\n",
       "        vertical-align: middle;\n",
       "    }\n",
       "\n",
       "    .dataframe tbody tr th {\n",
       "        vertical-align: top;\n",
       "    }\n",
       "\n",
       "    .dataframe thead th {\n",
       "        text-align: right;\n",
       "    }\n",
       "</style>\n",
       "<table border=\"1\" class=\"dataframe\">\n",
       "  <thead>\n",
       "    <tr style=\"text-align: right;\">\n",
       "      <th></th>\n",
       "      <th>headlines</th>\n",
       "      <th>text</th>\n",
       "      <th>decoder_input</th>\n",
       "      <th>decoder_target</th>\n",
       "    </tr>\n",
       "  </thead>\n",
       "  <tbody>\n",
       "    <tr>\n",
       "      <th>1</th>\n",
       "      <td>Delhi techie wins free food from Swiggy for one year on CRED</td>\n",
       "      <td>Kunal Shah's credit card bill payment platform, CRED, gave users a chance to win free food from Swiggy for one year. Pranav Kaushik, a Delhi techie, bagged this reward after spending 2000 CRED coins. Users get one CRED coin per rupee of bill paid, which can be used to avail rewards from brands like Ixigo, BookMyShow, UberEats, Cult.Fit and more.</td>\n",
       "      <td>sostoken Delhi techie wins free food from Swiggy for one year on CRED</td>\n",
       "      <td>Delhi techie wins free food from Swiggy for one year on CRED eostoken</td>\n",
       "    </tr>\n",
       "    <tr>\n",
       "      <th>2</th>\n",
       "      <td>New Zealand end Rohit Sharma-led India's 12-match winning streak</td>\n",
       "      <td>New Zealand defeated India by 8 wickets in the fourth ODI at Hamilton on Thursday to win their first match of the five-match ODI series. India lost an international match under Rohit Sharma's captaincy after 12 consecutive victories dating back to March 2018. The match witnessed India getting all out for 92, their seventh lowest total in ODI cricket history.</td>\n",
       "      <td>sostoken New Zealand end Rohit Sharma-led India's 12-match winning streak</td>\n",
       "      <td>New Zealand end Rohit Sharma-led India's 12-match winning streak eostoken</td>\n",
       "    </tr>\n",
       "    <tr>\n",
       "      <th>3</th>\n",
       "      <td>Aegon life iTerm insurance plan helps customers save tax</td>\n",
       "      <td>With Aegon Life iTerm Insurance plan, customers can enjoy tax benefits on your premiums paid and save up to Ã¢ÂÂ¹46,800^ on taxes. The plan provides life cover up to the age of 100 years. Also, customers have options to insure against Critical Illnesses, Disability and Accidental Death Benefit Rider with a life cover up to the age of 80 years.</td>\n",
       "      <td>sostoken Aegon life iTerm insurance plan helps customers save tax</td>\n",
       "      <td>Aegon life iTerm insurance plan helps customers save tax eostoken</td>\n",
       "    </tr>\n",
       "    <tr>\n",
       "      <th>5</th>\n",
       "      <td>Rahat Fateh Ali Khan denies getting notice for smuggling currency</td>\n",
       "      <td>Pakistani singer Rahat Fateh Ali Khan has denied receiving any notice from the Enforcement Directorate over allegedly smuggling foreign currency out of India. \"It would have been better if the authorities would have served the notice first if any and then publicised this,\" reads a press release issued on behalf of Rahat. The statement further called the allegation \"bizarre\".</td>\n",
       "      <td>sostoken Rahat Fateh Ali Khan denies getting notice for smuggling currency</td>\n",
       "      <td>Rahat Fateh Ali Khan denies getting notice for smuggling currency eostoken</td>\n",
       "    </tr>\n",
       "    <tr>\n",
       "      <th>7</th>\n",
       "      <td>Govt directs Alok Verma to join work 1 day before his retirement</td>\n",
       "      <td>Weeks after ex-CBI Director Alok Verma told the Department of Personnel and Training to consider him retired, the Home Ministry asked him to join work on the last day of his fixed tenure as Director on Thursday. The ministry directed him to immediately join as DG, Fire Services, the post he was transferred to after his removal as CBI chief.</td>\n",
       "      <td>sostoken Govt directs Alok Verma to join work 1 day before his retirement</td>\n",
       "      <td>Govt directs Alok Verma to join work 1 day before his retirement eostoken</td>\n",
       "    </tr>\n",
       "  </tbody>\n",
       "</table>\n",
       "</div>"
      ],
      "text/plain": [
       "                                                           headlines  \\\n",
       "1       Delhi techie wins free food from Swiggy for one year on CRED   \n",
       "2   New Zealand end Rohit Sharma-led India's 12-match winning streak   \n",
       "3           Aegon life iTerm insurance plan helps customers save tax   \n",
       "5  Rahat Fateh Ali Khan denies getting notice for smuggling currency   \n",
       "7   Govt directs Alok Verma to join work 1 day before his retirement   \n",
       "\n",
       "                                                                                                                                                                                                                                                                                                                                                                                        text  \\\n",
       "1                                Kunal Shah's credit card bill payment platform, CRED, gave users a chance to win free food from Swiggy for one year. Pranav Kaushik, a Delhi techie, bagged this reward after spending 2000 CRED coins. Users get one CRED coin per rupee of bill paid, which can be used to avail rewards from brands like Ixigo, BookMyShow, UberEats, Cult.Fit and more.   \n",
       "2                   New Zealand defeated India by 8 wickets in the fourth ODI at Hamilton on Thursday to win their first match of the five-match ODI series. India lost an international match under Rohit Sharma's captaincy after 12 consecutive victories dating back to March 2018. The match witnessed India getting all out for 92, their seventh lowest total in ODI cricket history.   \n",
       "3                                 With Aegon Life iTerm Insurance plan, customers can enjoy tax benefits on your premiums paid and save up to Ã¢ÂÂ¹46,800^ on taxes. The plan provides life cover up to the age of 100 years. Also, customers have options to insure against Critical Illnesses, Disability and Accidental Death Benefit Rider with a life cover up to the age of 80 years.   \n",
       "5  Pakistani singer Rahat Fateh Ali Khan has denied receiving any notice from the Enforcement Directorate over allegedly smuggling foreign currency out of India. \"It would have been better if the authorities would have served the notice first if any and then publicised this,\" reads a press release issued on behalf of Rahat. The statement further called the allegation \"bizarre\".   \n",
       "7                                     Weeks after ex-CBI Director Alok Verma told the Department of Personnel and Training to consider him retired, the Home Ministry asked him to join work on the last day of his fixed tenure as Director on Thursday. The ministry directed him to immediately join as DG, Fire Services, the post he was transferred to after his removal as CBI chief.   \n",
       "\n",
       "                                                                decoder_input  \\\n",
       "1       sostoken Delhi techie wins free food from Swiggy for one year on CRED   \n",
       "2   sostoken New Zealand end Rohit Sharma-led India's 12-match winning streak   \n",
       "3           sostoken Aegon life iTerm insurance plan helps customers save tax   \n",
       "5  sostoken Rahat Fateh Ali Khan denies getting notice for smuggling currency   \n",
       "7   sostoken Govt directs Alok Verma to join work 1 day before his retirement   \n",
       "\n",
       "                                                               decoder_target  \n",
       "1       Delhi techie wins free food from Swiggy for one year on CRED eostoken  \n",
       "2   New Zealand end Rohit Sharma-led India's 12-match winning streak eostoken  \n",
       "3           Aegon life iTerm insurance plan helps customers save tax eostoken  \n",
       "5  Rahat Fateh Ali Khan denies getting notice for smuggling currency eostoken  \n",
       "7   Govt directs Alok Verma to join work 1 day before his retirement eostoken  "
      ]
     },
     "execution_count": 30,
     "metadata": {},
     "output_type": "execute_result"
    }
   ],
   "source": [
    "# 요약 데이터에는 시작 토큰과 종료 토큰을 추가한다.\n",
    "import pandas as pd\n",
    "\n",
    "# 데이터프레임의 열 너비를 무제한으로 설정\n",
    "pd.set_option('display.max_colwidth', None)\n",
    "\n",
    "data['decoder_input'] = data['headlines'].apply(lambda x : 'sostoken '+ x)\n",
    "data['decoder_target'] = data['headlines'].apply(lambda x : x + ' eostoken')\n",
    "data.head()"
   ]
  },
  {
   "cell_type": "code",
   "execution_count": 31,
   "id": "fefdabca-dcb2-4480-8078-1b98ca428f00",
   "metadata": {},
   "outputs": [
    {
     "name": "stdout",
     "output_type": "stream",
     "text": [
      "=3\n"
     ]
    }
   ],
   "source": [
    "# 인코더의 입력, 디코더의 입력과 레이블을 각각 다시 Numpy 타입으로 저장\n",
    "\n",
    "encoder_input = np.array(data['text']) # 인코더의 입력\n",
    "decoder_input = np.array(data['decoder_input']) # 디코더의 입력\n",
    "decoder_target = np.array(data['decoder_target']) # 디코더의 레이블\n",
    "print('=3')"
   ]
  },
  {
   "cell_type": "code",
   "execution_count": 32,
   "id": "511f655a-12fe-48e1-aeba-11f47644257d",
   "metadata": {},
   "outputs": [
    {
     "name": "stdout",
     "output_type": "stream",
     "text": [
      "[56202 50438 60124 ... 80947 56916 35150]\n"
     ]
    }
   ],
   "source": [
    "#훈련 데이터와 테스트 데이터 분리\n",
    "\n",
    "# encoder_input과 크기와 형태가 같은 순서가 섞인 정수 시퀀스 생성\n",
    "\n",
    "indices = np.arange(encoder_input.shape[0])\n",
    "np.random.shuffle(indices)\n",
    "print(indices)"
   ]
  },
  {
   "cell_type": "code",
   "execution_count": 33,
   "id": "37731052-70ea-4f6d-a267-79e2c0011807",
   "metadata": {},
   "outputs": [
    {
     "name": "stdout",
     "output_type": "stream",
     "text": [
      "=3\n"
     ]
    }
   ],
   "source": [
    "encoder_input = encoder_input[indices]\n",
    "decoder_input = decoder_input[indices]\n",
    "decoder_target = decoder_target[indices]\n",
    "print('=3')"
   ]
  },
  {
   "cell_type": "code",
   "execution_count": 34,
   "id": "dbf8d127-6e62-4cc0-976b-841927528fc2",
   "metadata": {},
   "outputs": [
    {
     "name": "stdout",
     "output_type": "stream",
     "text": [
      "테스트 데이터의 수 : 19212\n"
     ]
    }
   ],
   "source": [
    "# 8:2의 비율로 훈련 데이터와 테스트 데이터로 분리\n",
    "\n",
    "n_of_val = int(len(encoder_input)*0.2)\n",
    "print('테스트 데이터의 수 :', n_of_val)"
   ]
  },
  {
   "cell_type": "code",
   "execution_count": 35,
   "id": "d063b15f-9a4d-4545-b15b-927374d20f6b",
   "metadata": {},
   "outputs": [
    {
     "name": "stdout",
     "output_type": "stream",
     "text": [
      "훈련 데이터의 개수 : 76851\n",
      "훈련 레이블의 개수 : 76851\n",
      "테스트 데이터의 개수 : 19212\n",
      "테스트 레이블의 개수 : 19212\n"
     ]
    }
   ],
   "source": [
    "# 데이터를 양분\n",
    "\n",
    "encoder_input_train = encoder_input[:-n_of_val]\n",
    "decoder_input_train = decoder_input[:-n_of_val]\n",
    "decoder_target_train = decoder_target[:-n_of_val]\n",
    "\n",
    "encoder_input_test = encoder_input[-n_of_val:]\n",
    "decoder_input_test = decoder_input[-n_of_val:]\n",
    "decoder_target_test = decoder_target[-n_of_val:]\n",
    "\n",
    "print('훈련 데이터의 개수 :', len(encoder_input_train))\n",
    "print('훈련 레이블의 개수 :', len(decoder_input_train))\n",
    "print('테스트 데이터의 개수 :', len(encoder_input_test))\n",
    "print('테스트 레이블의 개수 :', len(decoder_input_test))"
   ]
  },
  {
   "cell_type": "code",
   "execution_count": 36,
   "id": "b890a221-018e-4682-9240-4b09f69ec138",
   "metadata": {},
   "outputs": [],
   "source": [
    "# 정수 인코딩\n",
    " # 단어 집합(vocabulary) 만들기 및 정수 인코딩"
   ]
  },
  {
   "cell_type": "code",
   "execution_count": 37,
   "id": "11ddef19-f2e9-471d-bc1b-48d8dd8fbd58",
   "metadata": {},
   "outputs": [
    {
     "name": "stdout",
     "output_type": "stream",
     "text": [
      "=3\n"
     ]
    }
   ],
   "source": [
    "# 훈련 데이터 단어 집합\n",
    " \n",
    "#원문에 해당되는 encoder_input_train 단어 집합을 만들기.\n",
    "#Keras의 토크나이저를 사용하여, 입력된 훈련 데이터로부터 단어 집합 생성\n",
    "from collections import Counter\n",
    "\n",
    "\n",
    "def src_tokenizer(text): # 토크나이저 정의\n",
    "    text = text.lower()  # 소문자로 변환\n",
    "    text = re.sub(r\"[^a-zA-Z0-9]+\", \" \", text)  # 특수문자 제거\n",
    "    return text.split()  # 공백 기준 토큰화\n",
    "\n",
    "def build_vocab(texts):\n",
    "    vocab = {\"<PAD>\": 0, \"<UNK>\": 1}  # 패딩과 UNK 토큰 추가\n",
    "    word_counter = Counter()\n",
    "\n",
    "    for text in texts:\n",
    "        word_counter.update(src_tokenizer(text))  # 단어 빈도수 계산\n",
    "\n",
    "    # 단어 집합 생성 (빈도가 높은 순서대로)\n",
    "    for word, _ in word_counter.most_common():\n",
    "        if word not in vocab:\n",
    "            vocab[word] = len(vocab)\n",
    "\n",
    "    return vocab\n",
    "\n",
    "src_vocab = build_vocab(encoder_input_train) # 입력된 데이터로부터 단어 집합 생성\n",
    "print('=3')"
   ]
  },
  {
   "cell_type": "code",
   "execution_count": 38,
   "id": "bb8ef701-88af-480e-b5ca-a4aa637c959b",
   "metadata": {},
   "outputs": [
    {
     "name": "stdout",
     "output_type": "stream",
     "text": [
      "단어 집합(vocabulary)의 크기 : 245311\n",
      "등장 빈도가 6번 이하인 희귀 단어의 수: 205707\n",
      "단어 집합에서 희귀 단어를 제외시킬 경우의 단어 집합의 크기 39604\n",
      "단어 집합에서 희귀 단어의 비율: 83.85559555013839\n",
      "전체 등장 빈도에서 희귀 단어 등장 빈도 비율: 6.15012639891207\n"
     ]
    }
   ],
   "source": [
    "# 빈도수 낮은 데이터 제거 \n",
    "\n",
    " # 빈도수 7회 미만인 단어들 비중 확인\n",
    "\n",
    "threshold = 7\n",
    "\n",
    "# 전처리된 데이터 사용\n",
    "text_data = data['text'].tolist()\n",
    "headlines_data = data['headlines'].tolist()\n",
    "# 단어 빈도수 계산\n",
    "word_counter = Counter()\n",
    "for text in text_data:\n",
    "    word_counter.update(text.split())\n",
    "\n",
    "total_cnt = len(word_counter)  # 전체 단어 개수\n",
    "total_freq = sum(word_counter.values())  # 전체 단어 등장 횟수\n",
    "rare_cnt = sum(1 for count in word_counter.values() if count < threshold)  # 희귀 단어 개수\n",
    "rare_freq = sum(count for count in word_counter.values() if count < threshold)  # 희귀 단어 등장 횟수\n",
    "\n",
    "# 희귀 단어를 제외한 단어 사전 구축\n",
    "vocab = {\"<PAD>\": 0, \"<UNK>\": 1}  # 패딩 및 미등록 단어 추가\n",
    "word_index = {word: idx + 2 for idx, (word, count) in enumerate(word_counter.items()) if count >= threshold}\n",
    "\n",
    "print('단어 집합(vocabulary)의 크기 :', total_cnt)\n",
    "print('등장 빈도가 %s번 이하인 희귀 단어의 수: %s'%(threshold - 1, rare_cnt))\n",
    "print('단어 집합에서 희귀 단어를 제외시킬 경우의 단어 집합의 크기 %s'%(total_cnt - rare_cnt))\n",
    "print(\"단어 집합에서 희귀 단어의 비율:\", (rare_cnt / total_cnt)*100)\n",
    "print(\"전체 등장 빈도에서 희귀 단어 등장 빈도 비율:\", (rare_freq / total_freq)*100)"
   ]
  },
  {
   "cell_type": "code",
   "execution_count": 39,
   "id": "ab6113c9-f21b-4a44-8e2d-2fcdc41b786a",
   "metadata": {},
   "outputs": [
    {
     "name": "stdout",
     "output_type": "stream",
     "text": [
      "=3\n"
     ]
    }
   ],
   "source": [
    "src_vocab_size = 39000\n",
    "\n",
    "def build_limited_vocab(texts, vocab_size):\n",
    "    vocab = {\"<PAD>\": 0, \"<UNK>\": 1}  # 패딩과 UNK 토큰 추가\n",
    "    word_counter = Counter()\n",
    "\n",
    "    for text in texts:\n",
    "        word_counter.update(src_tokenizer(text))  # 단어 빈도수 계산\n",
    "\n",
    "    # 빈도가 높은 상위 vocab_size - 2개 단어만 선택 (PAD, UNK 포함)\n",
    "    for word, _ in word_counter.most_common(vocab_size - 2):\n",
    "        vocab[word] = len(vocab)\n",
    "\n",
    "    return vocab\n",
    "\n",
    "src_vocab = build_limited_vocab(encoder_input_train, src_vocab_size)\n",
    "print('=3')"
   ]
  },
  {
   "cell_type": "code",
   "execution_count": 40,
   "id": "1f38933d-4a86-4957-ae45-059753f06e4e",
   "metadata": {},
   "outputs": [],
   "source": [
    "# texts_to_sequences()는 생성된 단어 집합에 기반하여\n",
    "# 입력으로 주어진 텍스트 데이터의 단어들을 모두 정수로 변환하는 정수 인코딩을 수행한다. \n",
    "# 현재 단어 집합의 크기를 39,000으로 제한함으로 넘는 숫자들은 정수 인코딩 후에는 데이터에 존재하지 않는."
   ]
  },
  {
   "cell_type": "code",
   "execution_count": 41,
   "id": "873f4dcb-d358-4ede-a8a7-16f025d1318c",
   "metadata": {},
   "outputs": [
    {
     "name": "stdout",
     "output_type": "stream",
     "text": [
      "[[2, 515, 532, 9, 165, 12, 20, 85, 1667, 6419, 1350, 4900, 9, 2759, 2456, 2457, 6483, 7, 9884, 6, 3441, 12401, 1677, 4486, 7690, 8919, 24, 66, 3798, 583, 5, 364, 6, 502, 8, 8773, 410, 5193, 40, 136, 4, 114, 22, 228, 783, 1055, 185, 13, 102, 29, 12095, 3279, 3, 344, 2, 270, 135, 2825, 1340], [4, 77, 4929, 21559, 806, 25, 373, 5, 2, 1673, 6, 4, 4597, 6950, 1524, 5, 3113, 40, 32, 16059, 17, 21560, 1, 2, 6950, 10932, 806, 25, 575, 4, 4929, 10932, 855, 79, 5, 2, 1673, 13, 25, 373, 2654, 101, 2, 1524, 123, 25, 27, 225, 3406, 3517, 1, 4, 8644, 895, 924, 4, 2138, 7, 4, 1542], [83, 1010, 157, 2714, 4744, 10, 357, 76, 970, 5, 2, 362, 3, 1399, 1520, 735, 165, 200, 3, 14409, 223, 1579, 477, 2, 750, 51, 10, 357, 76, 970, 5, 2, 72, 3, 373, 26, 1047, 599, 40, 136, 22, 2, 55, 657, 1078, 768, 4, 278, 566, 1031, 5, 83, 7, 1145, 2, 51, 3, 1627, 970]]\n",
      "[[4, 681, 6, 2, 2468, 1600, 424, 6373, 13185, 13, 2, 3990, 6, 2, 424, 19784, 21, 20088, 1700, 5, 2, 3527, 9115, 7, 42, 5, 792, 23, 1221, 478, 2, 107, 8230, 424, 97, 6611, 6, 57, 2516, 117, 32, 58, 17075, 6, 26, 19715, 97, 12604, 1, 1, 341, 1057, 6106, 2494, 389, 14271, 5, 1678, 57, 117, 78, 143, 56, 389, 5, 792], [4, 104, 5, 43, 1723, 2603, 224, 19, 3553, 9, 418, 48, 628, 3, 4101, 4, 5814, 18, 4, 18913, 10546, 125, 3, 89, 4, 3168, 6, 2, 3553, 12, 2, 418, 1603, 22, 2, 2017, 5814, 1984, 609, 4, 2240, 15189, 2164, 2, 418, 850, 2186, 329, 302, 73, 239, 117, 110, 1086, 37, 351], [4, 142, 34, 10, 1157, 326, 560, 1009, 1839, 1478, 3195, 4319, 7, 3665, 4931, 6749, 4, 1922, 8241, 11, 47, 61, 5747, 94, 56, 539, 274, 2158, 3, 2, 534, 15148, 26000, 15148, 34, 1192, 5, 2, 1945, 4197, 61, 5747, 47, 290, 61, 15, 4, 4886, 6, 2, 4197, 61, 34, 3368, 544, 152, 7537, 245, 7, 1]]\n"
     ]
    }
   ],
   "source": [
    "def text_to_sequence(texts, vocab):\n",
    "    sequences = []\n",
    "    for text in texts:\n",
    "        sequence = [vocab.get(word, vocab[\"<UNK>\"]) for word in src_tokenizer(text)]\n",
    "        sequences.append(sequence)\n",
    "    return sequences\n",
    "\n",
    "# 텍스트 데이터 정수 시퀀스로 변환\n",
    "encoder_input_train_seq = text_to_sequence(encoder_input_train, src_vocab)\n",
    "encoder_input_test_seq = text_to_sequence(encoder_input_test, src_vocab)\n",
    "\n",
    "# 잘 진행되었는지 샘플 출력\n",
    "print(encoder_input_train_seq[:3])\n",
    "print(encoder_input_test_seq[:3])"
   ]
  },
  {
   "cell_type": "code",
   "execution_count": 42,
   "id": "56019eb9-ce89-4f91-906e-60621f40fb1c",
   "metadata": {},
   "outputs": [
    {
     "name": "stdout",
     "output_type": "stream",
     "text": [
      "=3\n"
     ]
    }
   ],
   "source": [
    "# headlines 데이터에 대해서도 동일한 작업 수행. \n",
    "# 케라스의 토크나이저를 사용하여 decoder_input_train을 입력으로 \n",
    "# 전체 단어 집합과 각 단어에 대한 빈도수를 계산.\n",
    "\n",
    "def tar_tokenizer(text):\n",
    "    text = text.lower()  # 소문자로 변환\n",
    "    text = re.sub(r\"[^a-zA-Z0-9]+\", \" \", text)  # 특수문자 제거\n",
    "    return text.split()  # 공백 기준 토큰화\n",
    "\n",
    "tar_vocab = build_vocab(decoder_input_train)\n",
    "print('=3')"
   ]
  },
  {
   "cell_type": "code",
   "execution_count": 43,
   "id": "d738bf02-f73a-4d3d-a228-1becbdf42f70",
   "metadata": {},
   "outputs": [
    {
     "name": "stdout",
     "output_type": "stream",
     "text": [
      "단어 집합(vocabulary)의 크기 : 31782\n",
      "등장 빈도가 5번 이하인 희귀 단어의 수: 21029\n",
      "단어 집합에서 희귀 단어를 제외시킬 경우의 단어 집합의 크기 10753\n",
      "단어 집합에서 희귀 단어의 비율: 66.16638348750865\n",
      "전체 등장 빈도에서 희귀 단어 등장 빈도 비율: 4.745147385358386\n"
     ]
    }
   ],
   "source": [
    "threshold = 6\n",
    "\n",
    "word_counter = Counter()\n",
    "for text in decoder_input_train:\n",
    "    word_counter.update(tar_tokenizer(text))  # 각 문장의 단어 빈도 계산\n",
    "\n",
    "# 전체 단어 개수 및 등장 빈도 계산\n",
    "total_cnt = len(word_counter)  # 전체 단어 개수\n",
    "total_freq = sum(word_counter.values())  # 전체 단어 등장 횟수\n",
    "rare_cnt = sum(1 for count in word_counter.values() if count < threshold)  # 희귀 단어 개수\n",
    "rare_freq = sum(count for count in word_counter.values() if count < threshold)  # 희귀 단어 등장 횟수\n",
    "\n",
    "print('단어 집합(vocabulary)의 크기 :', total_cnt)\n",
    "print('등장 빈도가 %s번 이하인 희귀 단어의 수: %s'%(threshold - 1, rare_cnt))\n",
    "print('단어 집합에서 희귀 단어를 제외시킬 경우의 단어 집합의 크기 %s'%(total_cnt - rare_cnt))\n",
    "print(\"단어 집합에서 희귀 단어의 비율:\", (rare_cnt / total_cnt)*100)\n",
    "print(\"전체 등장 빈도에서 희귀 단어 등장 빈도 비율:\", (rare_freq / total_freq)*100)"
   ]
  },
  {
   "cell_type": "code",
   "execution_count": 44,
   "id": "d5514cad-daf3-45d8-ab8d-d7332e4743a2",
   "metadata": {},
   "outputs": [
    {
     "name": "stdout",
     "output_type": "stream",
     "text": [
      "input\n",
      "input  [[2, 1329, 4, 2034, 6676, 957, 4496, 9, 2599, 1, 5, 1137, 314], [2, 3280, 1, 518, 4, 195, 5, 19, 1638, 8, 4418, 1744], [2, 111, 40, 593, 1251, 4, 586, 174, 700, 7061], [2, 8046, 843, 5250, 508, 11, 4587, 17, 4662], [2, 958, 435, 2702, 1, 43, 11, 620]]\n",
      "target\n",
      "decoder  [[1329, 4, 2034, 6676, 957, 4496, 9, 2599, 1, 5, 1137, 314, 3], [3280, 1, 518, 4, 195, 5, 19, 1638, 8, 4418, 1744, 3], [111, 40, 593, 1251, 4, 586, 174, 700, 7061, 3], [8046, 843, 5250, 508, 11, 4587, 17, 4662, 3], [958, 435, 2702, 1, 43, 11, 620, 3]]\n"
     ]
    }
   ],
   "source": [
    "tar_vocab_size = 10000\n",
    "tar_vocab = build_limited_vocab(decoder_input_train + decoder_target_train, tar_vocab_size)\n",
    "\n",
    "# 텍스트 시퀀스를 정수 시퀀스로 변환\n",
    "decoder_input_train_seq = text_to_sequence(decoder_input_train, tar_vocab)\n",
    "decoder_target_train_seq = text_to_sequence(decoder_target_train, tar_vocab)\n",
    "decoder_input_test_seq = text_to_sequence(decoder_input_test, tar_vocab)\n",
    "decoder_target_test_seq = text_to_sequence(decoder_target_test, tar_vocab)\n",
    "\n",
    "# 잘 변환되었는지 확인\n",
    "print('input')\n",
    "print('input ',decoder_input_train_seq[:5])\n",
    "print('target')\n",
    "print('decoder ',decoder_target_train_seq[:5])"
   ]
  },
  {
   "cell_type": "code",
   "execution_count": 45,
   "id": "bb6cf01c-8708-40b5-89ba-7f2ca355be28",
   "metadata": {},
   "outputs": [],
   "source": [
    "# decoder_input_train과 decoder_target_train에는 숫자 10,000이 넘는 숫자들은 존재하지 않음.\n",
    "# 빈도수가 낮은 단어만으로 구성되었던 샘플들은 빈(empty) 샘플이 되었을 가능성이 있음.\n",
    "  \n",
    "# 요약문에서 길이가 0이 된 샘플들의 인덱스를 확인. \n",
    "# 주의할 점은 요약문인 decoder_input에는 sostoken 또는 decoder_target에는 eostoken이 추가된 상태이고, \n",
    "# 이 두 토큰은 모든 샘플에서 등장하므로 빈도수가 샘플 수와 동일하게 매우 높으므로 단어 집합 제한에도 삭제되지 않음. \n",
    "# 따라서 길이가 0이 된 요약문의 실제 길이는 1로 나옴.\n",
    " # --> 예제의 경우 특정 단어수 이하를 제거하지 않음으로 이런 상황이 발생할 수 있으나. 본프로젝트에서는 제거함으로 발생하지않음\n",
    " # 그러나 확인 차원에서 진행\n",
    "\n",
    "# 훈련 데이터와 테스트 데이터에 대해서 요약문의 길이가 1인 경우의 인덱스를 \n",
    "# 각각 drop_train과 drop_test에 라는 변수에 저장후 삭제."
   ]
  },
  {
   "cell_type": "code",
   "execution_count": 46,
   "id": "d013c27a-160c-4edb-b8ff-5f8f78561245",
   "metadata": {},
   "outputs": [
    {
     "name": "stdout",
     "output_type": "stream",
     "text": [
      "삭제할 훈련 데이터의 개수 : 0\n",
      "삭제할 테스트 데이터의 개수 : 0\n",
      "훈련 데이터의 개수 : 76851\n",
      "훈련 레이블의 개수 : 76851\n",
      "테스트 데이터의 개수 : 19212\n",
      "테스트 레이블의 개수 : 19212\n"
     ]
    }
   ],
   "source": [
    "drop_train = [index for index, sentence in enumerate(decoder_input_train) if len(sentence) == 1]\n",
    "drop_test = [index for index, sentence in enumerate(decoder_input_test) if len(sentence) == 1]\n",
    "\n",
    "print('삭제할 훈련 데이터의 개수 :', len(drop_train))\n",
    "print('삭제할 테스트 데이터의 개수 :', len(drop_test))\n",
    "\n",
    "encoder_input_train = [sentence for index, sentence in enumerate(encoder_input_train) if index not in drop_train]\n",
    "decoder_input_train = [sentence for index, sentence in enumerate(decoder_input_train) if index not in drop_train]\n",
    "decoder_target_train = [sentence for index, sentence in enumerate(decoder_target_train) if index not in drop_train]\n",
    "\n",
    "encoder_input_test = [sentence for index, sentence in enumerate(encoder_input_test) if index not in drop_test]\n",
    "decoder_input_test = [sentence for index, sentence in enumerate(decoder_input_test) if index not in drop_test]\n",
    "decoder_target_test = [sentence for index, sentence in enumerate(decoder_target_test) if index not in drop_test]\n",
    "\n",
    "print('훈련 데이터의 개수 :', len(encoder_input_train))\n",
    "print('훈련 레이블의 개수 :', len(decoder_input_train))\n",
    "print('테스트 데이터의 개수 :', len(encoder_input_test))\n",
    "print('테스트 레이블의 개수 :', len(decoder_input_test))"
   ]
  },
  {
   "cell_type": "code",
   "execution_count": 47,
   "id": "39b4bbe6-e057-4a8b-851a-5f9b13ffa406",
   "metadata": {},
   "outputs": [
    {
     "name": "stdout",
     "output_type": "stream",
     "text": [
      "=3\n"
     ]
    }
   ],
   "source": [
    "#패딩하기\n",
    "\n",
    "from torch.nn.utils.rnn import pad_sequence\n",
    "\n",
    "# 텐서 변환 함수 (리스트 → PyTorch 텐서)\n",
    "def convert_to_tensor(sequences):\n",
    "    return [torch.tensor(seq, dtype=torch.long) for seq in sequences]\n",
    "\n",
    "# 패딩 적용 함수 (PyTorch `pad_sequence()` 활용)\n",
    "def pad_sequences_pytorch(sequences, maxlen, padding_value=0):\n",
    "    sequences = convert_to_tensor(sequences)  # 리스트를 텐서로 변환\n",
    "    padded_seqs = pad_sequence(sequences, batch_first=True, padding_value=padding_value)  # 패딩 적용\n",
    "    return padded_seqs[:, :maxlen]  # maxlen 길이로 자르기 (최대 길이 초과 방지)\n",
    "\n",
    "# 패딩 적용\n",
    "encoder_input_train = pad_sequences_pytorch(encoder_input_train_seq, maxlen=text_max_len)\n",
    "encoder_input_test = pad_sequences_pytorch(encoder_input_test_seq, maxlen=text_max_len)\n",
    "decoder_input_train = pad_sequences_pytorch(decoder_input_train_seq, maxlen=headlines_max_len)\n",
    "decoder_target_train = pad_sequences_pytorch(decoder_target_train_seq, maxlen=headlines_max_len)\n",
    "decoder_input_test = pad_sequences_pytorch(decoder_input_test_seq, maxlen=headlines_max_len)\n",
    "decoder_target_test = pad_sequences_pytorch(decoder_target_test_seq, maxlen=headlines_max_len)\n",
    "\n",
    "print('=3')"
   ]
  },
  {
   "cell_type": "code",
   "execution_count": 48,
   "id": "bc00936b-5800-4b91-aead-a97bd3146cde",
   "metadata": {},
   "outputs": [],
   "source": [
    "# 모델 설계"
   ]
  },
  {
   "cell_type": "code",
   "execution_count": 49,
   "id": "98b1d645-f7a8-4789-a280-730798da7ff8",
   "metadata": {},
   "outputs": [],
   "source": [
    "# 함수형 API를 이용해서 인코더를 설계.\n",
    " # 임베딩 벡터의 차원은 128로 정의하고, hidden state의 크기를 256으로 정의\n",
    " # hidden state는 LSTM에서 얼만큼의 수용력(capacity)를 가질지를 정하는 파라미터\n",
    " # 이 파라미터는 LSTM의 용량의 크기나, LSTM에서의 뉴런의 개수로 이해. \n",
    " # 다른 신경망과 마찬가지로, 무조건 용량을 많이 준다고 해서 성능이 반드시 올라가는 것은 아님.\n",
    "\n",
    "# 인코더의 LSTM은 총 3개의 층으로 구성해서 모델의 복잡도를 높임.\n",
    "# hidden state의 크기를 늘리는 것이 LSTM 층 1개의 용량을 늘린다면, \n",
    "# 3개의 층을 사용하는 것은 모델의 용량을 늘린다고 볼 수 있음.\n",
    "# 3개의 층을 지나서 인코더로부터 나온 출력 벡터는 디코더로 보내줌\n",
    "\n",
    "\n",
    "import torch.nn as nn\n",
    "import torch.nn.functional as F\n",
    "\n",
    "# 인코더 설계 시작\n",
    "embedding_dim = 128\n",
    "hidden_size = 256\n",
    "src_vocab_size = len(src_vocab)  # 단어 집합 크기\n",
    "\n",
    "# 인코더\n",
    "class Encoder(nn.Module):\n",
    "    def __init__(self, vocab_size, embedding_dim, hidden_size, num_layers=3, dropout=0.4):\n",
    "        super(Encoder, self).__init__()\n",
    "        self.embedding = nn.Embedding(vocab_size, embedding_dim)\n",
    "        self.lstm = nn.LSTM(\n",
    "            embedding_dim, hidden_size, num_layers=num_layers,\n",
    "            dropout=dropout, batch_first=True\n",
    "        )\n",
    "\n",
    "    def forward(self, x): # 인코더의 임베딩 층\n",
    "        embedded = self.embedding(x)\n",
    "        output, (hidden, cell) = self.lstm(embedded)  # LSTM 실행\n",
    "        return output, hidden, cell\n",
    "\n",
    "# 인코더 모델 생성\n",
    "encoder = Encoder(src_vocab_size, embedding_dim, hidden_size, num_layers=3, dropout=0.4)"
   ]
  },
  {
   "cell_type": "code",
   "execution_count": 50,
   "id": "e8438682-f878-48f5-9302-91c613bce37d",
   "metadata": {},
   "outputs": [],
   "source": [
    "# 디코더 설계\n",
    "# 디코더의 임베딩 층과 LSTM을 설계하는 것은 인코더와 거의 동일\n",
    "# 하지만 LSTM의 입력을 정의할 때, initial_state의 인자값으로 인코더의 hidden state와 cell state의 값을 넣어줘야 함.\n",
    "\n",
    "\n",
    "class Decoder(nn.Module):\n",
    "    def __init__(self, vocab_size, embedding_dim, hidden_size, dropout=0.4, num_layers=3):\n",
    "        super(Decoder, self).__init__()\n",
    "        self.embedding = nn.Embedding(vocab_size, embedding_dim)\n",
    "        self.lstm = nn.LSTM(\n",
    "            embedding_dim, hidden_size, num_layers=num_layers, dropout=dropout,\n",
    "            batch_first=True\n",
    "        )\n",
    "\n",
    "    def forward(self, x, hidden, cell): # 디코더의 임베딩 층\n",
    "        embedded = self.embedding(x)\n",
    "        output, (hidden, cell) = self.lstm(embedded, (hidden, cell))  # 초기 상태를 인코더에서 전달받음\n",
    "        return output, hidden, cell\n",
    "\n",
    "# 디코더 모델 생성\n",
    "decoder = Decoder(tar_vocab_size, embedding_dim, hidden_size, num_layers=3, dropout=0.4)"
   ]
  },
  {
   "cell_type": "code",
   "execution_count": 51,
   "id": "f7c26516-2497-4a74-bc12-4de5c57aa257",
   "metadata": {},
   "outputs": [
    {
     "name": "stdout",
     "output_type": "stream",
     "text": [
      "Seq2Seq(\n",
      "  (encoder): Encoder(\n",
      "    (embedding): Embedding(39000, 128)\n",
      "    (lstm): LSTM(128, 256, num_layers=3, batch_first=True, dropout=0.4)\n",
      "  )\n",
      "  (decoder): Decoder(\n",
      "    (embedding): Embedding(10000, 128)\n",
      "    (lstm): LSTM(128, 256, num_layers=3, batch_first=True, dropout=0.4)\n",
      "  )\n",
      "  (softmax_layer): Linear(in_features=256, out_features=10000, bias=True)\n",
      ")\n"
     ]
    }
   ],
   "source": [
    "# 디코더의 출력층을 설계.\n",
    "\n",
    "# 디코더의 출력층\n",
    "class Seq2Seq(nn.Module):\n",
    "    def __init__(self, encoder, decoder, vocab_size):\n",
    "        super(Seq2Seq, self).__init__()\n",
    "        self.encoder = encoder\n",
    "        self.decoder = decoder\n",
    "        self.softmax_layer = nn.Linear(hidden_size, vocab_size)  # 출력층 정의\n",
    "\n",
    "    def forward(self, encoder_input, decoder_input):\n",
    "        # 인코더 실행\n",
    "        encoder_output, hidden, cell = self.encoder(encoder_input)\n",
    "\n",
    "        # 디코더 실행\n",
    "        decoder_output, _, _ = self.decoder(decoder_input, hidden, cell)\n",
    "\n",
    "        # 출력층 적용 (Softmax는 Loss 내부에서 적용되므로 생략 가능)\n",
    "        output = self.softmax_layer(decoder_output)\n",
    "        return output\n",
    "\n",
    "# 모델 정의\n",
    "model = Seq2Seq(encoder, decoder, tar_vocab_size)\n",
    "print(model)\n"
   ]
  },
  {
   "cell_type": "code",
   "execution_count": 52,
   "id": "e52e0f8a-080b-4a4d-b800-1ffc83fb5372",
   "metadata": {},
   "outputs": [],
   "source": [
    "# 디코더의 출력층에서는 headlines의 단어장인 tar_vocab의 수많은 선택지 중 하나의 단어를 선택하는 다중 클래스 분류 문제\n",
    "# 때문에 Dense의 인자로 tar_vocab을 주고, 활성화 함수로 소프트맥스 함수를 사용.\n",
    "\n",
    "# 지금까지 설계한 것은 인코더의 hidden state와 cell state를 디코더의 초기 state로 사용하는 가장 기본적인 seq2seq\n",
    "# 디코더의 출력층을 설계를 어텐션 메커니즘으로 변경.\n",
    "\n",
    "# 어텐션 메커니즘\n",
    "# 어텐션 메커니즘을 수행하는 어텐션 함수를 설계하는 것은 또 다른 새로운 신경망을 설계해야 한다는 뜻이에요. \n",
    "# 어텐션 기능을 구현하고 디코더의 출력층에 어떤 방식으로 결합하는지 배워볼게요.\n",
    "\n",
    "# 참고로 여기서 사용하는 어텐션 함수는 Luong 스타일의 어텐션입니다. \n",
    "\n",
    "# 아래와 같이 어텐션 층을 만들고, 위에서 설계한 디코더의 출력층을 수정해 봅시다."
   ]
  },
  {
   "cell_type": "code",
   "execution_count": 53,
   "id": "3aed212e-0f8b-4a52-9b15-7271fe0f86e2",
   "metadata": {},
   "outputs": [
    {
     "name": "stdout",
     "output_type": "stream",
     "text": [
      "Seq2SeqWithAttention(\n",
      "  (encoder): Encoder(\n",
      "    (embedding): Embedding(39000, 128)\n",
      "    (lstm): LSTM(128, 256, num_layers=3, batch_first=True, dropout=0.4)\n",
      "  )\n",
      "  (decoder): Decoder(\n",
      "    (embedding): Embedding(10000, 128)\n",
      "    (lstm): LSTM(128, 256, num_layers=3, batch_first=True, dropout=0.4)\n",
      "  )\n",
      "  (attention): Attention_dot(\n",
      "    (attn): Linear(in_features=256, out_features=256, bias=True)\n",
      "    (v): Linear(in_features=256, out_features=1, bias=False)\n",
      "  )\n",
      "  (concat): Linear(in_features=512, out_features=256, bias=True)\n",
      "  (output_layer): Linear(in_features=256, out_features=10000, bias=True)\n",
      ")\n"
     ]
    }
   ],
   "source": [
    "#어텐션 모델 \n",
    "# 인코더의 hidden state들과 디코더의 hidden state들을 어텐션 함수의 입력으로 사용하고, \n",
    "#어텐션 함수가 리턴한 값을 예측 시에 디코더의 hidden state와 함께 활용하는 형태로 작동.\n",
    "\n",
    "class Attention_dot(nn.Module):\n",
    "    def __init__(self, hidden_size):\n",
    "        super(Attention_dot, self).__init__()\n",
    "        self.attn = nn.Linear(hidden_size, hidden_size)  # 어텐션 가중치\n",
    "        self.v = nn.Linear(hidden_size, 1, bias=False)  # 어텐션 가중치 벡터\n",
    "\n",
    "    def forward(self, decoder_output, encoder_outputs):\n",
    "        attn_weights = torch.bmm(decoder_output, encoder_outputs.transpose(1, 2))\n",
    "        attn_weights = F.softmax(attn_weights, dim=-1)  # 어텐션 가중치 정규화\n",
    "        attn_out = torch.bmm(attn_weights, encoder_outputs)\n",
    "\n",
    "        return attn_out\n",
    "\n",
    "class Seq2SeqWithAttention(nn.Module):\n",
    "    def __init__(self, encoder, decoder, vocab_size, hidden_size):\n",
    "        super(Seq2SeqWithAttention, self).__init__()\n",
    "        self.encoder = encoder\n",
    "        self.decoder = decoder\n",
    "        self.attention = Attention_dot(hidden_size)\n",
    "        self.concat = nn.Linear(hidden_size * 2, hidden_size)  # 어텐션 결합\n",
    "        self.output_layer = nn.Linear(hidden_size, vocab_size)  # 최종 출력층\n",
    "\n",
    "    def forward(self, encoder_input, decoder_input):\n",
    "        encoder_outputs, hidden, cell = self.encoder(encoder_input)\n",
    "        decoder_outputs, _, _ = self.decoder(decoder_input, hidden, cell)\n",
    "\n",
    "        # 어텐션 적용\n",
    "        attn_out = self.attention(decoder_outputs, encoder_outputs)\n",
    "\n",
    "        # 어텐션 결과와 디코더 출력 연결\n",
    "        decoder_concat_output = torch.cat((decoder_outputs, attn_out), dim=-1)\n",
    "\n",
    "        # 어텐션 결합 후 최종 출력\n",
    "        decoder_concat_output = torch.tanh(self.concat(decoder_concat_output))\n",
    "        output = self.output_layer(decoder_concat_output)\n",
    "\n",
    "        return output\n",
    "\n",
    "# 모델 생성\n",
    "model = Seq2SeqWithAttention(encoder, decoder, tar_vocab_size, hidden_size)\n",
    "print(model)"
   ]
  },
  {
   "cell_type": "code",
   "execution_count": 54,
   "id": "90800858-ecc9-4253-81be-a766f1130787",
   "metadata": {},
   "outputs": [],
   "source": [
    "# 9. 모델 훈련하기\n"
   ]
  },
  {
   "cell_type": "code",
   "execution_count": 55,
   "id": "7f63a1bd-195e-4bc7-98c2-93090218019f",
   "metadata": {},
   "outputs": [
    {
     "name": "stdout",
     "output_type": "stream",
     "text": [
      "Using device: cuda\n"
     ]
    }
   ],
   "source": [
    "import torch.optim as optim\n",
    "from torch.utils.data import DataLoader, TensorDataset\n",
    "from tqdm import tqdm\n",
    "\n",
    "device = torch.device(\"cuda\" if torch.cuda.is_available() else \"cpu\")\n",
    "print(f\"Using device: {device}\")\n",
    "model.to(device)\n",
    "\n",
    "# Hyperparameters\n",
    "batch_size = 256\n",
    "epochs = 50\n",
    "learning_rate = 0.001\n",
    "patience = 2\n",
    "\n",
    "# 손실 함수 & 옵티마이저\n",
    "criterion = nn.CrossEntropyLoss(ignore_index=0)  # 패딩 토큰 무시\n",
    "optimizer = optim.AdamW(model.parameters(), lr=learning_rate)\n",
    "\n",
    "# PyTorch DataLoader 설정\n",
    "train_dataset = TensorDataset(encoder_input_train, decoder_input_train, decoder_target_train)\n",
    "test_dataset = TensorDataset(encoder_input_test, decoder_input_test, decoder_target_test)\n",
    "\n",
    "train_loader = DataLoader(train_dataset, batch_size=batch_size, shuffle=True)\n",
    "test_loader = DataLoader(test_dataset, batch_size=batch_size, shuffle=False)"
   ]
  },
  {
   "cell_type": "code",
   "execution_count": 56,
   "id": "7089882f-b109-47f0-9420-1b9f470707ed",
   "metadata": {},
   "outputs": [],
   "source": [
    "train_losses = []\n",
    "val_losses = []\n",
    "\n",
    "# 학습 함수\n",
    "def train_model(model, train_loader, test_loader, criterion, optimizer, epochs, patience):\n",
    "    model.train()\n",
    "    best_val_loss = float('inf')\n",
    "    early_stop_counter = 0\n",
    "\n",
    "    for epoch in range(epochs):\n",
    "        total_loss = 0\n",
    "\n",
    "        for encoder_input, decoder_input, target in tqdm(train_loader, desc=f\"Epoch {epoch+1}/{epochs} [Train]\"):\n",
    "            optimizer.zero_grad()\n",
    "\n",
    "            # 정수형 변환\n",
    "            encoder_input = encoder_input.to(device).long()\n",
    "            decoder_input = decoder_input.to(device).long()\n",
    "            target = target.to(device).long()\n",
    "\n",
    "            # 모델 실행\n",
    "            output = model(encoder_input, decoder_input)\n",
    "            output = output.view(-1, output.shape[-1])\n",
    "            target = target.view(-1)\n",
    "\n",
    "            loss = criterion(output, target)\n",
    "            loss.backward()\n",
    "            optimizer.step()\n",
    "            total_loss += loss.item()\n",
    "\n",
    "        avg_loss = total_loss / len(train_loader)\n",
    "        train_losses.append(avg_loss)\n",
    "\n",
    "        # Validation loss 계산\n",
    "        model.eval()\n",
    "        val_loss = 0\n",
    "        with torch.no_grad():\n",
    "            for encoder_input, decoder_input, target in tqdm(test_loader, desc=f\"Epoch {epoch+1}/{epochs} [Validation]\"):\n",
    "                encoder_input = encoder_input.to(device).long()\n",
    "                decoder_input = decoder_input.to(device).long()\n",
    "                target = target.to(device).long()\n",
    "\n",
    "                output = model(encoder_input, decoder_input)\n",
    "                output = output.view(-1, output.shape[-1])\n",
    "                target = target.view(-1)\n",
    "                loss = criterion(output, target)\n",
    "\n",
    "                val_loss += loss.item()\n",
    "\n",
    "        val_loss /= len(test_loader)\n",
    "        val_losses.append(val_loss)\n",
    "        print(f\"Epoch {epoch+1}/{epochs} | Train Loss: {avg_loss:.4f} | Val Loss: {val_loss:.4f}\")\n",
    "\n",
    "        # Early Stopping 조건\n",
    "        if val_loss < best_val_loss:\n",
    "            best_val_loss = val_loss\n",
    "            early_stop_counter = 0\n",
    "        else:\n",
    "            early_stop_counter += 1\n",
    "\n",
    "        if early_stop_counter >= patience:\n",
    "            print(f\"Early stopping triggered at epoch {epoch+1}\")\n",
    "            break\n",
    "\n",
    "        model.train()"
   ]
  },
  {
   "cell_type": "code",
   "execution_count": 57,
   "id": "595d6409-ecb6-482d-b68c-88d81aee8f4e",
   "metadata": {},
   "outputs": [
    {
     "name": "stderr",
     "output_type": "stream",
     "text": [
      "Epoch 1/50 [Train]: 100%|██████████| 301/301 [00:25<00:00, 11.92it/s]\n",
      "Epoch 1/50 [Validation]: 100%|██████████| 76/76 [00:02<00:00, 36.56it/s]\n"
     ]
    },
    {
     "name": "stdout",
     "output_type": "stream",
     "text": [
      "Epoch 1/50 | Train Loss: 6.9787 | Val Loss: 6.6779\n"
     ]
    },
    {
     "name": "stderr",
     "output_type": "stream",
     "text": [
      "Epoch 2/50 [Train]: 100%|██████████| 301/301 [00:25<00:00, 11.59it/s]\n",
      "Epoch 2/50 [Validation]: 100%|██████████| 76/76 [00:02<00:00, 34.76it/s]\n"
     ]
    },
    {
     "name": "stdout",
     "output_type": "stream",
     "text": [
      "Epoch 2/50 | Train Loss: 6.5758 | Val Loss: 6.3511\n"
     ]
    },
    {
     "name": "stderr",
     "output_type": "stream",
     "text": [
      "Epoch 3/50 [Train]: 100%|██████████| 301/301 [00:27<00:00, 11.09it/s]\n",
      "Epoch 3/50 [Validation]: 100%|██████████| 76/76 [00:02<00:00, 33.24it/s]\n"
     ]
    },
    {
     "name": "stdout",
     "output_type": "stream",
     "text": [
      "Epoch 3/50 | Train Loss: 6.1834 | Val Loss: 5.9265\n"
     ]
    },
    {
     "name": "stderr",
     "output_type": "stream",
     "text": [
      "Epoch 4/50 [Train]: 100%|██████████| 301/301 [00:28<00:00, 10.57it/s]\n",
      "Epoch 4/50 [Validation]: 100%|██████████| 76/76 [00:02<00:00, 32.63it/s]\n"
     ]
    },
    {
     "name": "stdout",
     "output_type": "stream",
     "text": [
      "Epoch 4/50 | Train Loss: 5.7314 | Val Loss: 5.5190\n"
     ]
    },
    {
     "name": "stderr",
     "output_type": "stream",
     "text": [
      "Epoch 5/50 [Train]: 100%|██████████| 301/301 [00:28<00:00, 10.74it/s]\n",
      "Epoch 5/50 [Validation]: 100%|██████████| 76/76 [00:02<00:00, 33.36it/s]\n"
     ]
    },
    {
     "name": "stdout",
     "output_type": "stream",
     "text": [
      "Epoch 5/50 | Train Loss: 5.3578 | Val Loss: 5.2292\n"
     ]
    },
    {
     "name": "stderr",
     "output_type": "stream",
     "text": [
      "Epoch 6/50 [Train]: 100%|██████████| 301/301 [00:27<00:00, 10.85it/s]\n",
      "Epoch 6/50 [Validation]: 100%|██████████| 76/76 [00:02<00:00, 33.21it/s]\n"
     ]
    },
    {
     "name": "stdout",
     "output_type": "stream",
     "text": [
      "Epoch 6/50 | Train Loss: 5.0549 | Val Loss: 5.0027\n"
     ]
    },
    {
     "name": "stderr",
     "output_type": "stream",
     "text": [
      "Epoch 7/50 [Train]: 100%|██████████| 301/301 [00:28<00:00, 10.69it/s]\n",
      "Epoch 7/50 [Validation]: 100%|██████████| 76/76 [00:02<00:00, 33.10it/s]\n"
     ]
    },
    {
     "name": "stdout",
     "output_type": "stream",
     "text": [
      "Epoch 7/50 | Train Loss: 4.8012 | Val Loss: 4.8199\n"
     ]
    },
    {
     "name": "stderr",
     "output_type": "stream",
     "text": [
      "Epoch 8/50 [Train]: 100%|██████████| 301/301 [00:28<00:00, 10.60it/s]\n",
      "Epoch 8/50 [Validation]: 100%|██████████| 76/76 [00:02<00:00, 33.25it/s]\n"
     ]
    },
    {
     "name": "stdout",
     "output_type": "stream",
     "text": [
      "Epoch 8/50 | Train Loss: 4.5804 | Val Loss: 4.6623\n"
     ]
    },
    {
     "name": "stderr",
     "output_type": "stream",
     "text": [
      "Epoch 9/50 [Train]: 100%|██████████| 301/301 [00:27<00:00, 10.77it/s]\n",
      "Epoch 9/50 [Validation]: 100%|██████████| 76/76 [00:02<00:00, 33.36it/s]\n"
     ]
    },
    {
     "name": "stdout",
     "output_type": "stream",
     "text": [
      "Epoch 9/50 | Train Loss: 4.3819 | Val Loss: 4.5379\n"
     ]
    },
    {
     "name": "stderr",
     "output_type": "stream",
     "text": [
      "Epoch 10/50 [Train]: 100%|██████████| 301/301 [00:28<00:00, 10.71it/s]\n",
      "Epoch 10/50 [Validation]: 100%|██████████| 76/76 [00:02<00:00, 32.95it/s]\n"
     ]
    },
    {
     "name": "stdout",
     "output_type": "stream",
     "text": [
      "Epoch 10/50 | Train Loss: 4.2021 | Val Loss: 4.4246\n"
     ]
    },
    {
     "name": "stderr",
     "output_type": "stream",
     "text": [
      "Epoch 11/50 [Train]: 100%|██████████| 301/301 [00:28<00:00, 10.70it/s]\n",
      "Epoch 11/50 [Validation]: 100%|██████████| 76/76 [00:02<00:00, 33.07it/s]\n"
     ]
    },
    {
     "name": "stdout",
     "output_type": "stream",
     "text": [
      "Epoch 11/50 | Train Loss: 4.0393 | Val Loss: 4.3277\n"
     ]
    },
    {
     "name": "stderr",
     "output_type": "stream",
     "text": [
      "Epoch 12/50 [Train]: 100%|██████████| 301/301 [00:28<00:00, 10.71it/s]\n",
      "Epoch 12/50 [Validation]: 100%|██████████| 76/76 [00:02<00:00, 33.21it/s]\n"
     ]
    },
    {
     "name": "stdout",
     "output_type": "stream",
     "text": [
      "Epoch 12/50 | Train Loss: 3.8919 | Val Loss: 4.2486\n"
     ]
    },
    {
     "name": "stderr",
     "output_type": "stream",
     "text": [
      "Epoch 13/50 [Train]: 100%|██████████| 301/301 [00:28<00:00, 10.72it/s]\n",
      "Epoch 13/50 [Validation]: 100%|██████████| 76/76 [00:02<00:00, 33.23it/s]\n"
     ]
    },
    {
     "name": "stdout",
     "output_type": "stream",
     "text": [
      "Epoch 13/50 | Train Loss: 3.7554 | Val Loss: 4.1822\n"
     ]
    },
    {
     "name": "stderr",
     "output_type": "stream",
     "text": [
      "Epoch 14/50 [Train]: 100%|██████████| 301/301 [00:28<00:00, 10.73it/s]\n",
      "Epoch 14/50 [Validation]: 100%|██████████| 76/76 [00:02<00:00, 33.23it/s]\n"
     ]
    },
    {
     "name": "stdout",
     "output_type": "stream",
     "text": [
      "Epoch 14/50 | Train Loss: 3.6318 | Val Loss: 4.1334\n"
     ]
    },
    {
     "name": "stderr",
     "output_type": "stream",
     "text": [
      "Epoch 15/50 [Train]: 100%|██████████| 301/301 [00:28<00:00, 10.71it/s]\n",
      "Epoch 15/50 [Validation]: 100%|██████████| 76/76 [00:02<00:00, 33.17it/s]\n"
     ]
    },
    {
     "name": "stdout",
     "output_type": "stream",
     "text": [
      "Epoch 15/50 | Train Loss: 3.5158 | Val Loss: 4.0805\n"
     ]
    },
    {
     "name": "stderr",
     "output_type": "stream",
     "text": [
      "Epoch 16/50 [Train]: 100%|██████████| 301/301 [00:28<00:00, 10.75it/s]\n",
      "Epoch 16/50 [Validation]: 100%|██████████| 76/76 [00:02<00:00, 33.22it/s]\n"
     ]
    },
    {
     "name": "stdout",
     "output_type": "stream",
     "text": [
      "Epoch 16/50 | Train Loss: 3.4095 | Val Loss: 4.0414\n"
     ]
    },
    {
     "name": "stderr",
     "output_type": "stream",
     "text": [
      "Epoch 17/50 [Train]: 100%|██████████| 301/301 [00:28<00:00, 10.61it/s]\n",
      "Epoch 17/50 [Validation]: 100%|██████████| 76/76 [00:02<00:00, 32.99it/s]\n"
     ]
    },
    {
     "name": "stdout",
     "output_type": "stream",
     "text": [
      "Epoch 17/50 | Train Loss: 3.3104 | Val Loss: 4.0045\n"
     ]
    },
    {
     "name": "stderr",
     "output_type": "stream",
     "text": [
      "Epoch 18/50 [Train]: 100%|██████████| 301/301 [00:28<00:00, 10.75it/s]\n",
      "Epoch 18/50 [Validation]: 100%|██████████| 76/76 [00:02<00:00, 33.28it/s]\n"
     ]
    },
    {
     "name": "stdout",
     "output_type": "stream",
     "text": [
      "Epoch 18/50 | Train Loss: 3.2210 | Val Loss: 3.9770\n"
     ]
    },
    {
     "name": "stderr",
     "output_type": "stream",
     "text": [
      "Epoch 19/50 [Train]: 100%|██████████| 301/301 [00:28<00:00, 10.74it/s]\n",
      "Epoch 19/50 [Validation]: 100%|██████████| 76/76 [00:02<00:00, 33.13it/s]\n"
     ]
    },
    {
     "name": "stdout",
     "output_type": "stream",
     "text": [
      "Epoch 19/50 | Train Loss: 3.1308 | Val Loss: 3.9593\n"
     ]
    },
    {
     "name": "stderr",
     "output_type": "stream",
     "text": [
      "Epoch 20/50 [Train]: 100%|██████████| 301/301 [00:28<00:00, 10.74it/s]\n",
      "Epoch 20/50 [Validation]: 100%|██████████| 76/76 [00:02<00:00, 32.85it/s]\n"
     ]
    },
    {
     "name": "stdout",
     "output_type": "stream",
     "text": [
      "Epoch 20/50 | Train Loss: 3.0512 | Val Loss: 3.9504\n"
     ]
    },
    {
     "name": "stderr",
     "output_type": "stream",
     "text": [
      "Epoch 21/50 [Train]: 100%|██████████| 301/301 [00:28<00:00, 10.75it/s]\n",
      "Epoch 21/50 [Validation]: 100%|██████████| 76/76 [00:02<00:00, 33.26it/s]\n"
     ]
    },
    {
     "name": "stdout",
     "output_type": "stream",
     "text": [
      "Epoch 21/50 | Train Loss: 2.9747 | Val Loss: 3.9303\n"
     ]
    },
    {
     "name": "stderr",
     "output_type": "stream",
     "text": [
      "Epoch 22/50 [Train]: 100%|██████████| 301/301 [00:27<00:00, 10.76it/s]\n",
      "Epoch 22/50 [Validation]: 100%|██████████| 76/76 [00:02<00:00, 32.92it/s]\n"
     ]
    },
    {
     "name": "stdout",
     "output_type": "stream",
     "text": [
      "Epoch 22/50 | Train Loss: 2.9006 | Val Loss: 3.9235\n"
     ]
    },
    {
     "name": "stderr",
     "output_type": "stream",
     "text": [
      "Epoch 23/50 [Train]: 100%|██████████| 301/301 [00:27<00:00, 10.76it/s]\n",
      "Epoch 23/50 [Validation]: 100%|██████████| 76/76 [00:02<00:00, 33.27it/s]\n"
     ]
    },
    {
     "name": "stdout",
     "output_type": "stream",
     "text": [
      "Epoch 23/50 | Train Loss: 2.8320 | Val Loss: 3.9213\n"
     ]
    },
    {
     "name": "stderr",
     "output_type": "stream",
     "text": [
      "Epoch 24/50 [Train]: 100%|██████████| 301/301 [00:28<00:00, 10.74it/s]\n",
      "Epoch 24/50 [Validation]: 100%|██████████| 76/76 [00:02<00:00, 33.18it/s]\n"
     ]
    },
    {
     "name": "stdout",
     "output_type": "stream",
     "text": [
      "Epoch 24/50 | Train Loss: 2.7662 | Val Loss: 3.9248\n"
     ]
    },
    {
     "name": "stderr",
     "output_type": "stream",
     "text": [
      "Epoch 25/50 [Train]: 100%|██████████| 301/301 [00:27<00:00, 10.77it/s]\n",
      "Epoch 25/50 [Validation]: 100%|██████████| 76/76 [00:02<00:00, 33.11it/s]\n"
     ]
    },
    {
     "name": "stdout",
     "output_type": "stream",
     "text": [
      "Epoch 25/50 | Train Loss: 2.7016 | Val Loss: 3.9160\n"
     ]
    },
    {
     "name": "stderr",
     "output_type": "stream",
     "text": [
      "Epoch 26/50 [Train]: 100%|██████████| 301/301 [00:28<00:00, 10.64it/s]\n",
      "Epoch 26/50 [Validation]: 100%|██████████| 76/76 [00:02<00:00, 33.06it/s]\n"
     ]
    },
    {
     "name": "stdout",
     "output_type": "stream",
     "text": [
      "Epoch 26/50 | Train Loss: 2.6445 | Val Loss: 3.9234\n"
     ]
    },
    {
     "name": "stderr",
     "output_type": "stream",
     "text": [
      "Epoch 27/50 [Train]: 100%|██████████| 301/301 [00:28<00:00, 10.75it/s]\n",
      "Epoch 27/50 [Validation]: 100%|██████████| 76/76 [00:02<00:00, 33.22it/s]"
     ]
    },
    {
     "name": "stdout",
     "output_type": "stream",
     "text": [
      "Epoch 27/50 | Train Loss: 2.5866 | Val Loss: 3.9196\n",
      "Early stopping triggered at epoch 27\n",
      "CPU times: user 13min 33s, sys: 2.33 s, total: 13min 36s\n",
      "Wall time: 13min 34s\n"
     ]
    },
    {
     "name": "stderr",
     "output_type": "stream",
     "text": [
      "\n"
     ]
    }
   ],
   "source": [
    "%%time\n",
    "# 30분 이상 시간이 걸릴 수 있습니다. GPU 환경에서 학습하는 것을 권장합니다.\n",
    "# 학습 실행\n",
    "train_model(model, train_loader, test_loader, criterion, optimizer, epochs=epochs, patience=patience)"
   ]
  },
  {
   "cell_type": "code",
   "execution_count": 58,
   "id": "c7999a92-26ec-4094-b395-f959db4a8057",
   "metadata": {},
   "outputs": [],
   "source": [
    "#시각화"
   ]
  },
  {
   "cell_type": "code",
   "execution_count": 59,
   "id": "82930319-ed97-4fee-9518-f794a2b4976e",
   "metadata": {},
   "outputs": [
    {
     "data": {
      "image/png": "[encoded data removed]",
      "text/plain": [
       "<Figure size 640x480 with 1 Axes>"
      ]
     },
     "metadata": {},
     "output_type": "display_data"
    }
   ],
   "source": [
    "plt.plot(range(len(train_losses)), train_losses, label='Train Loss')\n",
    "plt.plot(range(len(val_losses)), val_losses, label='Validation Loss')\n",
    "plt.legend()\n",
    "plt.xlabel(\"Epochs\")\n",
    "plt.ylabel(\"Loss\")\n",
    "plt.title(\"Training and Validation Loss\")\n",
    "plt.show()"
   ]
  },
  {
   "cell_type": "code",
   "execution_count": 60,
   "id": "381bf66e-5940-40d6-ac55-9d3298b8c7b7",
   "metadata": {},
   "outputs": [],
   "source": [
    "# 10. 인퍼런스 모델 구현하기\n",
    "# 테스트 단계에서는 정수 인덱스 행렬로 존재하던 텍스트 데이터를 실제 데이터로 복원해야 하므로, \n",
    "# 필요한 3개의 사전을 아래와 같이 미리 준비해 둡니다."
   ]
  },
  {
   "cell_type": "code",
   "execution_count": 61,
   "id": "bf68d0cd-501e-4df4-bc8c-22eba2defdfc",
   "metadata": {},
   "outputs": [
    {
     "name": "stdout",
     "output_type": "stream",
     "text": [
      "=3\n"
     ]
    }
   ],
   "source": [
    "src_index_to_word = {idx: word for word, idx in src_vocab.items()} # 원문 단어 집합에서 정수 -> 단어를 얻음\n",
    "tar_word_to_index = tar_vocab # 요약 단어 집합에서 단어 -> 정수를 얻음\n",
    "tar_index_to_word = {idx: word for word, idx in tar_vocab.items()} # 요약 단어 집합에서 정수 -> 단어를 얻음\n",
    "\n",
    "print('=3')"
   ]
  },
  {
   "cell_type": "code",
   "execution_count": 62,
   "id": "a1b60316-ebf5-4f03-b6d3-2fcb58ae65e9",
   "metadata": {},
   "outputs": [],
   "source": [
    "# seq2seq는 훈련할 때와 실제 동작할 때(인퍼런스 단계)의 방식이 다름 \n",
    "#따라서 모델 설계를 별개로 진행해야 함\n",
    "\n",
    "# 훈련 단계에서는 디코더의 입력부에 정답이 되는 문장 전체를 한꺼번에 넣고 디코더의 출력과 한 번에 비교할 수 있으므로, \n",
    "# 인코더와 디코더를 엮은 통짜 모델 하나만 필요.\n",
    "\n",
    "# 그러나 정답 문장이 없는 인퍼런스 단계에서는 만들어야 할 문장의 길이만큼 디코더가 반복 구조로 동작해야 하기 때문에 \n",
    "# 인퍼런스를 위한 모델 설계를 별도로 해줌. \n",
    "# 이때는 인코더 모델과 디코더 모델을 분리해서 설계."
   ]
  },
  {
   "cell_type": "code",
   "execution_count": 63,
   "id": "254a6552-9a88-4c05-80a7-e7a04054d1f8",
   "metadata": {},
   "outputs": [
    {
     "name": "stdout",
     "output_type": "stream",
     "text": [
      "=3\n"
     ]
    }
   ],
   "source": [
    "device = torch.device(\"cuda\" if torch.cuda.is_available() else \"cpu\")\n",
    "decoder.to(device)\n",
    "\n",
    "# 인코더 설계\n",
    "def encode_input(encoder, input_seq):\n",
    "    encoder_outputs, hidden, cell = encoder(input_seq)\n",
    "    return encoder_outputs, hidden, cell\n",
    "\n",
    "# 이전 시점의 상태들을 저장하는 텐서\n",
    "num_layers = 3  # 디코더 LSTM 레이어 개수 (설정에 맞춰 조정)\n",
    "batch_size = 1\n",
    "\n",
    "decoder_state_input_h = torch.zeros((num_layers, batch_size, hidden_size), dtype=torch.float, device=device)\n",
    "decoder_state_input_c = torch.zeros((num_layers, batch_size, hidden_size), dtype=torch.float, device=device)\n",
    "decoder_input = torch.zeros((batch_size, 1), dtype=torch.long, device=device)\n",
    "\n",
    "dec_emb2 = decoder.embedding(decoder_input)\n",
    "\n",
    "# 문장의 다음 단어를 예측하기 위해서 초기 상태(initial_state)를 이전 시점의 상태로 사용. 이는 뒤의 함수 decode_sequence()에 구현\n",
    "# 훈련 과정에서와 달리 LSTM의 리턴하는 은닉 상태와 셀 상태인 state_h와 state_c를 버리지 않음.\n",
    "decoder_outputs2, state_h2, state_c2 = decoder(decoder_input, decoder_state_input_h, decoder_state_input_c)\n",
    "\n",
    "print('=3')"
   ]
  },
  {
   "cell_type": "code",
   "execution_count": 64,
   "id": "e86d55cc-2bcd-422d-b071-80e38f12d1b9",
   "metadata": {},
   "outputs": [
    {
     "name": "stdout",
     "output_type": "stream",
     "text": [
      "=3\n"
     ]
    }
   ],
   "source": [
    "# 어텐션 메커니즘을 사용하는 출력층을 설계\n",
    "\n",
    "class DecoderWithAttention(nn.Module):\n",
    "    def __init__(self, decoder, attention, hidden_size, vocab_size):\n",
    "        super(DecoderWithAttention, self).__init__()\n",
    "        self.decoder = decoder  # 기존 디코더\n",
    "        self.attention = attention  # 어텐션 레이어\n",
    "        self.concat = nn.Linear(hidden_size * 2, hidden_size)  # 어텐션 결합 레이어\n",
    "        self.output_layer = nn.Linear(hidden_size, vocab_size)  # 최종 출력층\n",
    "        self.softmax = nn.Softmax(dim=-1)  # 소프트맥스\n",
    "\n",
    "    def forward(self, decoder_inputs, decoder_hidden_state, decoder_state_h, decoder_state_c):\n",
    "        # 디코더 실행\n",
    "        decoder_outputs, state_h, state_c = self.decoder(decoder_inputs, decoder_state_h, decoder_state_c)\n",
    "\n",
    "        # 어텐션 적용\n",
    "        attn_out = self.attention(decoder_outputs, decoder_hidden_state)\n",
    "\n",
    "        # 어텐션과 디코더 출력 결합\n",
    "        decoder_concat_output = torch.cat((decoder_outputs, attn_out), dim=-1)\n",
    "        decoder_concat_output = torch.tanh(self.concat(decoder_concat_output))\n",
    "\n",
    "        # 최종 출력층 적용\n",
    "        decoder_outputs2 = self.softmax(self.output_layer(decoder_concat_output))\n",
    "\n",
    "        return decoder_outputs2, state_h, state_c\n",
    "\n",
    "# 기존 Attention 클래스 사용\n",
    "attention_layer = Attention_dot(hidden_size)\n",
    "\n",
    "# 디코더 모델 생성\n",
    "decoder_model = DecoderWithAttention(decoder, attention_layer, hidden_size, tar_vocab_size)\n",
    "print('=3')"
   ]
  },
  {
   "cell_type": "code",
   "execution_count": 65,
   "id": "d591a0f5-b6bf-409f-8e44-fde064f6bb5b",
   "metadata": {},
   "outputs": [
    {
     "name": "stdout",
     "output_type": "stream",
     "text": [
      "=3\n"
     ]
    }
   ],
   "source": [
    "# 인퍼런스 단계에서 단어 시퀀스를 완성하는 함수\n",
    "\n",
    "def decode_sequence(input_seq, encoder, decoder, tar_word_to_index, tar_index_to_word, text_max_len, headlines_max_len, device):\n",
    "    # 입력을 PyTorch Tensor로 변환\n",
    "    input_seq = torch.tensor(input_seq, dtype=torch.long, device=device)\n",
    "\n",
    "    # 인코더 실행하여 초기 상태(hidden, cell) 얻기\n",
    "    with torch.no_grad():\n",
    "        e_out, e_h, e_c = encoder(input_seq)\n",
    "\n",
    "    e_out = e_out.repeat(1, text_max_len, 1)  # 차원 조정 (np.tile 대신 repeat 사용)\n",
    "\n",
    "    # <SOS>에 해당하는 토큰 생성\n",
    "    target_seq = torch.zeros((1, 1), dtype=torch.long, device=device)\n",
    "    target_seq[0, 0] = tar_word_to_index['sostoken']\n",
    "\n",
    "    stop_condition = False\n",
    "    decoded_sentence = ''\n",
    "\n",
    "    while not stop_condition:\n",
    "        # 디코더 실행\n",
    "        with torch.no_grad():\n",
    "            output_tokens, h, c = decoder(target_seq, e_h, e_c)\n",
    "\n",
    "        # 가장 높은 확률을 가진 단어 선택\n",
    "        sampled_token_index = torch.argmax(output_tokens[0, -1, :]).item()\n",
    "        sampled_token = tar_index_to_word[sampled_token_index]\n",
    "\n",
    "        if sampled_token != 'eostoken':\n",
    "            decoded_sentence += ' ' + sampled_token\n",
    "\n",
    "        # 종료 조건: <eos>에 도달하거나 최대 길이를 초과하면 중단\n",
    "        if sampled_token == 'eostoken' or len(decoded_sentence.split()) >= (headlines_max_len - 1):\n",
    "            stop_condition = True\n",
    "\n",
    "        # 길이가 1인 타겟 시퀀스를 업데이트\n",
    "        target_seq = torch.zeros((1, 1), dtype=torch.long, device=device)\n",
    "        target_seq[0, 0] = sampled_token_index\n",
    "\n",
    "        # 상태 업데이트\n",
    "        e_h, e_c = h, c\n",
    "\n",
    "    return decoded_sentence\n",
    "print(\"=3\")"
   ]
  },
  {
   "cell_type": "code",
   "execution_count": 66,
   "id": "9de8687f-584f-47b7-90d3-886e553e6548",
   "metadata": {},
   "outputs": [],
   "source": [
    "# 11. 모델 테스트\n",
    "# 테스트 단계에서는 정수 시퀀스를 텍스트 시퀀스로 변환하여 결과를 확인\n",
    "# 정수 시퀀스를 텍스트 시퀀스로 변환하는 함수 필요\n",
    "\n",
    "# 함수를 만들 때, Text의 정수 시퀀스에서는 패딩을 위해 사용되는 숫자 0을 제외하고 \n",
    "#headlines의 정수 시퀀스에서는 숫자 0, 시작 토큰의 인덱스, 종료 토큰의 인덱스를 출력에서 제외.\n"
   ]
  },
  {
   "cell_type": "code",
   "execution_count": 67,
   "id": "1b0692bc-e319-45e1-9386-d22c38ec7662",
   "metadata": {},
   "outputs": [
    {
     "name": "stdout",
     "output_type": "stream",
     "text": [
      "=3\n"
     ]
    }
   ],
   "source": [
    "# 원문의 정수 시퀀스를 텍스트 시퀀스로 변환\n",
    "def seq2text(input_seq):\n",
    "    temp = ''\n",
    "    for i in input_seq:\n",
    "        key = int(i.item())  # PyTorch Tensor → int 변환\n",
    "        if key != 0:  # 패딩(0) 제외\n",
    "            temp = temp + src_index_to_word.get(key, \"<UNK>\") + ' '  # 안전한 조회\n",
    "    return temp.strip()\n",
    "\n",
    "# 요약문의 정수 시퀀스를 텍스트 시퀀스로 변환\n",
    "def seq2headlines(input_seq):\n",
    "    temp = ''\n",
    "    for i in input_seq:\n",
    "        key = int(i.item())  # PyTorch Tensor → int 변환\n",
    "        if key != 0 and key != tar_word_to_index['sostoken'] and key != tar_word_to_index['eostoken']:\n",
    "            temp = temp + tar_index_to_word.get(key, \"<UNK>\") + ' '  # 안전한 조회\n",
    "    return temp.strip()  # 양쪽 공백 제거\n",
    "\n",
    "print('=3')"
   ]
  },
  {
   "cell_type": "code",
   "execution_count": 68,
   "id": "5cd64987-3be7-4395-9477-e1dd51bd897d",
   "metadata": {},
   "outputs": [],
   "source": [
    "# 테스트 데이터 약 50개의 샘플에 대해서 실제 요약과 예측된 요약을 비교\n"
   ]
  },
  {
   "cell_type": "code",
   "execution_count": 69,
   "id": "350d8431-5b9a-4527-ba71-856d47adc88a",
   "metadata": {},
   "outputs": [
    {
     "name": "stdout",
     "output_type": "stream",
     "text": [
      "원문 : speaking at the 16th hindustan times leadership summit actor turned politician kamal haasan said i don t want to see any one colour <UNK> the flag stating that the idea is <UNK> he added we ve respected religion and we ve given it a place in our flag i want to see my tricolour maintain its texture\n",
      "실제 요약 : don t want one colour to <UNK> tricolour kamal haasan\n",
      "예측 요약 :  uk uk on last last a attack on calls if calls\n",
      "\n",
      "\n",
      "원문 : two nuns who worked at a california catholic school have admitted stealing about 500 000 and using it to gamble in las vegas the nuns who are said to be best friends took funds from an account holding tuition fees and donations the church said they expressed deep remorse over their actions adding no criminal charges would be brought against them\n",
      "실제 요약 : nuns steal 500 000 from school to <UNK> in las vegas\n",
      "예측 요약 :  me may a a a a a a says year 20\n",
      "\n",
      "\n",
      "원문 : india captain virat kohli who was given a bottle of champagne for being named man of the match in trent bridge test gifted the bottle to head coach ravi shastri kohli was seen walking towards the balcony and handing the bottle to shastri before both moved towards the dressing room the 29 year old scored 200 runs in the test\n",
      "실제 요약 : kohli gifts his man of the match champagne bottle to shastri\n",
      "예측 요약 :  modi video hc video on last a a a a 2\n",
      "\n",
      "\n",
      "원문 : gujarat topped the first ever state wise rankings for providing a strong ecosystem to startups released by the department of industrial policy and promotion dipp on thursday the rankings mentioned karnataka rajasthan odisha and kerala as the top performers after gujarat a total of 27 states and three union territories participated in the exercise an official statement said\n",
      "실제 요약 : gujarat tops government s first ever state startup rankings\n",
      "예측 요약 :  before 6 6 attack 6 attack 6 20 20 20 20\n",
      "\n",
      "\n",
      "원문 : a member of us president donald trump s <UNK> advisory board <UNK> <UNK> has claimed that there s no flu season and people should <UNK> themselves with the word of god she further asked people to not get threatened in the name of flu saying we ve already had our shot jesus himself gave us the flu shot he redeemed us from flu\n",
      "실제 요약 : there s no flu season jesus gave us flu shots trump\n",
      "예측 요약 :  uk uk on last last attack on firm on firm if\n",
      "\n",
      "\n",
      "원문 : speaking on the eve of jawaharlal nehru s birth anniversary congress mp shashi tharoor on tuesday said we have a chaiwala as pm because <UNK> made it possible to create institutional structures through which any indian can aspire to the highest office in the land he alleged that there is a campaign of <UNK> astonishing amount of lies on the internet against nehru\n",
      "실제 요약 : we have <UNK> as pm as nehru made it possible tharoor\n",
      "예측 요약 :  uk uk on last a attack on calls year a a\n",
      "\n",
      "\n",
      "원문 : apple on monday announced that digital assistant siri will be able to answer follow up questions on ios 11 making it similar to google assistant siri will be <UNK> aware and show pop ups of the user s current location if they receive an imessage text asking where are you further siri will have in app translation features for languages like chinese and french\n",
      "실제 요약 : apple adds google assistant like features to siri\n",
      "예측 요약 :  last 4 attack 6 attack 1st attack its firm on firm\n",
      "\n",
      "\n",
      "원문 : a video shows madhuri dixit dancing on late actress sridevi s hawa hawai song from her 1987 film mr india and paying tribute to her at an award show aishwarya rai bachchan who was also part of the awards said madhuri your performance was amazing we love you the tribute to sri ji sridevi we love you and miss you\n",
      "실제 요약 : video shows madhuri paying tribute to sridevi at award show\n",
      "예측 요약 :  not 4 down m m m m is firm on firm\n",
      "\n",
      "\n",
      "원문 : following her meeting with pm narendra modi jammu and kashmir cm mehbooba mufti asserted that talks were the only option but they cannot happen amid stone pelting and bullets she also asserted that the stone pelters in kashmir were being systematically incited this comes amid fresh street protests in the valley by students against the alleged high handedness of the security forces\n",
      "실제 요약 : bullets stones dialogues can t go together in j k mufti\n",
      "예측 요약 :  uk uk on last a attack on last a a a\n",
      "\n",
      "\n",
      "원문 : sandeep kaur an auto rickshaw driver s 16 year old daughter beat karolina <UNK> 5 0 to win a gold medal in the 52 kg category at the 13th international <UNK> boxing championship in poland kaur who hails from a village in patiala said i used to go with my uncle to a boxing academy near our village when i was a child\n",
      "실제 요약 : auto driver s teen daughter bags gold at int l boxing\n",
      "예측 요약 :  me may a a a last last dies may a a\n",
      "\n",
      "\n",
      "원문 : prime minister narendra modi on thursday paid tributes to the martyrs of the jallianwala bagh massacre on its <UNK> anniversary saluting the martyrs of the jallianwala bagh massacre their valour and heroism will never be forgotten pm modi tweeted nearly 1 000 people were killed when general dyer ordered his troops to fire on the crowd in amritsar s jallianwala bagh\n",
      "실제 요약 : pm modi pays tribute to martyrs of jallianwala bagh massacre\n",
      "예측 요약 :  last 4 attack 6 attack 6 attack on firm on firm\n",
      "\n",
      "\n",
      "원문 : actor rishi kapoor while talking about the various kinds of roles he has played said i have played positive roles negative ones the role of a gay man i ve done everything possible rishi added that he s thankful to the writers and directors who have written such parts for him as it s very difficult for actors of his age to get work\n",
      "실제 요약 : i ve played a gay man done every kind of role\n",
      "예측 요약 :  uk uk on last last attack on firm on firm if\n",
      "\n",
      "\n",
      "원문 : russian president vladimir putin has said his chinese counterpart xi jinping is the only world leader with whom he celebrated his birthday calling xi a reliable partner and good friend putin added that the chinese president is a very accessible and a very sincere person the russian president is scheduled to visit china on an official visit later this week\n",
      "실제 요약 : china prez xi only leader i celebrated my b day with\n",
      "예측 요약 :  last uk 6 attack uk for last google on firm on\n",
      "\n",
      "\n",
      "원문 : union minister of state for home affairs kiren rijiju has said congress should apologise to the country for its comments on the 2016 surgical strikes army has done something extraordinary in the national interest by performing the surgical strike but the congress party demanded proof now that video evidence has emerged they are saying this is for publicity he added\n",
      "실제 요약 : cong should apologise for comments on surgical strikes mos\n",
      "예측 요약 :  last uk 6 attack uk for last google on firm on\n",
      "\n",
      "\n",
      "원문 : russia s foreign minister sergey lavrov has said that his country is not going to wage a war with ukraine but is prepared to respond to any provocations on the crimean border tensions between russia and ukraine have recently escalated after russia seized ukrainian navy ships and captured ukrainian crew accusing them of illegally entering its territorial waters\n",
      "실제 요약 : won t wage war with ukraine i promise russia foreign minister\n",
      "예측 요약 :  last attack 6 attack 6 attack uk president on firm on\n",
      "\n",
      "\n",
      "원문 : five time grand slam champion martina hingis on saturday announced her marriage with sports physician harald <UNK> the duo who first met in 2016 when hingis was in swiss fed cup team and herald was the team doctor have been in a relationship for around two years this is hingis second marriage after being married to french equestrian <UNK> <UNK> 2010 2013\n",
      "실제 요약 : 5 time grand slam champ <UNK> marries her former <UNK>\n",
      "예측 요약 :  me may a m m pic may a a a last\n",
      "\n",
      "\n",
      "원문 : the staff of bengaluru s st john s hospital found two five month old female foetuses disposed off near the hospital s premises in two separate incidents while one foetus was found dumped in a public toilet near the hospital s emergency ward the other foetus was discovered in a sanitation tank police are scrutinising the cctv footage obtained from the hospital\n",
      "실제 요약 : 2 female <UNK> found in bengaluru hospital s toilet tank\n",
      "예측 요약 :  modi video on last a a a a a 2 2\n",
      "\n",
      "\n",
      "원문 : a man named <UNK> was allegedly stabbed on a street in hyderabad for not returning a sum of 5 000 borrowed from the attacker one year ago the police said saddam asked <UNK> to return the money and following a heated discussion he stabbed <UNK> with a knife <UNK> is undergoing treatment and is reported to be out of danger\n",
      "실제 요약 : man stabbed on hyderabad street for not returning 5 000\n",
      "예측 요약 :  me may a a a last last says year on firm\n",
      "\n",
      "\n",
      "원문 : as many as 21 people were injured after a delhi bound tourist bus fell into a gorge on the <UNK> shimla border in himachal pradesh on sunday prima facie it appears that the accident happened due to the negligence of the driver a police official said reportedly all the passengers were safely rescued and the injured were taken to a hospital\n",
      "실제 요약 : 21 injured after bus falls into gorge in himachal pradesh\n",
      "예측 요약 :  me may a m about last google on firm video on\n",
      "\n",
      "\n",
      "원문 : at least 11 five star hotels in delhi including the taj palace and the leela are on the tax defaulter list of new delhi municipal council taj palace owes 42 crore and the leela owes 18 crore to the council moreover the highest tax defaulter was delhi golf club which owes the ndmc 700 crore\n",
      "실제 요약 : taj palace leela delhi golf club on tax <UNK> list\n",
      "예측 요약 :  before 6 6 attack 6 attack 6 20 20 20 says\n",
      "\n",
      "\n",
      "원문 : nthe goa cabinet has approved a proposal to impose a fine of 2 000 on people who drink alcohol or cook in public and a fine of 10 000 if a group of people is doing so offenders who do not pay the fine will face up to three months imprisonment the amendment is expected to be tabled during the assembly session\n",
      "실제 요약 : goa cabinet approves 2 000 fine for drinking in public\n",
      "예측 요약 :  me may a a a last dies may a dies may\n",
      "\n",
      "\n",
      "원문 : arunachal pradesh governor retired brigadier <UNK> mishra on thursday took a pregnant woman in urgent need of medical attention in his helicopter from tawang to a itanagar hospital when the chopper developed technical issues after refuelling at tezpur mishra called an indian air force helicopter and let the woman and her husband leave first while also arranging an ambulance\n",
      "실제 요약 : arunachal governor takes pregnant woman to hospital in his chopper\n",
      "예측 요약 :  me may a m m m m is firm may a\n",
      "\n",
      "\n",
      "원문 : facebook will verify the details of indian advertisers wanting to run political ads on the platform through an offline process ahead of the 2019 lok sabha elections it had also mailed individual advertisers and agencies asking them to provide scanned copies of address and identify proofs advertisers will also be visited by facebook s india based team the platform further said\n",
      "실제 요약 : facebook to verify indian political ads via offline process\n",
      "예측 요약 :  last 4 attack 6 attack 6 attack 1st attack may a\n",
      "\n",
      "\n",
      "원문 : former pakistan skipper shahid afridi has challenged windies batsman chris gayle for a one on one all rules barred six hitting challenge afridi proposed for a single wicket match with no dismissal rules after gayle equalled afridi s record of most sixes hit in international cricket gayle had said that he will hit no more sixes after equalling afridi s record\n",
      "실제 요약 : afridi challenges gayle for a one on one six hitting contest\n",
      "예측 요약 :  me may a a a last dies may a dies may\n",
      "\n",
      "\n",
      "원문 : two teens were arrested in mumbai for allegedly threatening an on duty police constable on wednesday by saying they would get a sword and kill him the constable had asked the teens to move their <UNK> as they were obstructing traffic but they started abusing him when the constable took out his phone to record the incident the accused threatened him\n",
      "실제 요약 : would get a sword and kill you mumbai teens threaten cop\n",
      "예측 요약 :  me may a m m pic may a a a last\n",
      "\n",
      "\n",
      "원문 : swiss tennis star roger federer will appear in an episode on british survival expert bear grylls survival show grylls who created the man vs wild survival show shot the episode with the 20 time grand slam champion in the swiss alps the trailer for the episode featuring federer shows him and grylls eating a dead fish s eyeballs\n",
      "실제 요약 : federer to appear on survival show alongside man vs wild host\n",
      "예측 요약 :  me may a from last dies may a a a dies\n",
      "\n",
      "\n",
      "원문 : whistleblower susan fowler who spoke out about the treatment of women at uber has said that she supports a 10 million settlement of harassment claims on behalf of almost 500 employees she further said the settlement will help compensate others subjected to illegal conduct fowler s post led to internal investigations and the departure of uber co founder travis kalanick from the company\n",
      "실제 요약 : whistleblower backs 10 mn deal for staff on uber s sexism\n"
     ]
    },
    {
     "name": "stderr",
     "output_type": "stream",
     "text": [
      "<timed exec>:4: UserWarning: To copy construct from a tensor, it is recommended to use sourceTensor.detach().clone() or sourceTensor.detach().clone().requires_grad_(True), rather than torch.tensor(sourceTensor).\n",
      "/tmp/ipykernel_5733/4248792236.py:5: UserWarning: To copy construct from a tensor, it is recommended to use sourceTensor.detach().clone() or sourceTensor.detach().clone().requires_grad_(True), rather than torch.tensor(sourceTensor).\n",
      "  input_seq = torch.tensor(input_seq, dtype=torch.long, device=device)\n"
     ]
    },
    {
     "name": "stdout",
     "output_type": "stream",
     "text": [
      "예측 요약 :  last attack uk m uk on firm on firm on calls\n",
      "\n",
      "\n",
      "원문 : us based southwest airlines has filed a lawsuit against a website that alerted flyers when the fares of its flights fell the website used data from the southwest website to enable customers to rebook their tickets at cheaper prices the airline has claimed the site violated its trademarks computer fraud and the terms and conditions of its website\n",
      "실제 요약 : airline sues website that offered alerts about falling fares\n",
      "예측 요약 :  modi video on last a a a a a 2 on\n",
      "\n",
      "\n",
      "원문 : china is planning to build an ocean observatory in the maldives for military purposes according to reports located in <UNK> the observatory will also give china access to an important shipping route in the indian ocean both china and the maldives had finalised an official agreement called the protocol on establishment of joint ocean observation station last year\n",
      "실제 요약 : china may build military <UNK> in maldives reports\n",
      "예측 요약 :  last 4 attack 6 attack its firm on firm on firm\n",
      "\n",
      "\n",
      "원문 : google parent alphabet is planning to shut down its robotics unit called <UNK> that develops <UNK> robots aimed at helping out in disaster efforts it comes after talks with japan s softbank for an acquisition of the robotics unit fell through we re working with employees to help them find jobs elsewhere within or outside of alphabet a company spokesperson said\n",
      "실제 요약 : alphabet to shut robotics unit after failing to find buyer\n",
      "예측 요약 :  last attack 6 attack crore for a a a a a\n",
      "\n",
      "\n",
      "원문 : the uttar pradesh government on tuesday approved a proposal seeking to impose the death penalty on manufacturers of illicit liquor in case death or disability is caused by its consumption the proposal further sought to enhance financial penalties for other offences related to illicit liquor notably gujarat had introduced capital punishment for illicit liquor related offences in 2011\n",
      "실제 요약 : up plans death penalty for illicit liquor <UNK>\n",
      "예측 요약 :  last 4 attack 6 attack ever ever on firm on firm\n",
      "\n",
      "\n",
      "원문 : aishwarya rai bachchan and abhishek bachchan have opted out of anurag kashyap s next production gulab jamun as per reports they had suggested certain changes in the script while things were being worked out the two seem to have had a change of mind stated reports aishwarya and abhishek were last seen together in mani ratnam s raavan in 2010\n",
      "실제 요약 : aishwarya and abhishek opt out of <UNK> <UNK> reports\n",
      "예측 요약 :  me may a a a last dies may a dies may\n",
      "\n",
      "\n",
      "원문 : responding to digvijaya singh s allegation that chhattisgarh cm raman singh helped naxalites bjp has said the congress leader had opposed an operation against the naxalites in 2013 congress had lost their valuable leaders in a naxal attack chidambaram wanted to launch an all out attack against naxalites but it was digvijaya singh who had opposed it bjp leader sudesh verma said\n",
      "실제 요약 : digvijaya had opposed attack on <UNK> in 2013 bjp\n",
      "예측 요약 :  last uk 6 attack uk president 5 attack on firm on\n",
      "\n",
      "\n",
      "원문 : former miss india earth tanvi vyas tied the knot with actor harsh nagar on wednesday vyas who was crowned femina miss india earth in 2008 reportedly met nagar in mumbai during a short term acting course the couple got married in a traditional ceremony in vadodara gujarat and will host receptions in mumbai and delhi as per reports\n",
      "실제 요약 : former miss india earth <UNK> vyas marries actor harsh nagar\n",
      "예측 요약 :  not 4 down m m m is last google on firm\n",
      "\n",
      "\n",
      "원문 : the maharashtra excise department has slapped 53 28 crore penalty on liquor giant diageo india for allegedly evading excise duty while importing bulk scotch upon examining the company s records it was found that excise duty of 17 76 crore was evaded on 5 92 <UNK> litres whiskey the excise department s notice said as per rules the company has to pay three times the evaded duty\n",
      "실제 요약 : excise department slaps 53 crore penalty on <UNK> india\n",
      "예측 요약 :  me may a a a a a a a a a\n",
      "\n",
      "\n",
      "원문 : the country s top three citizens now come from the bjp and rss background bjp leader ram nath kovind was recently appointed as the president becoming the country s first citizen further venkaiah naidu was elected to the second citizen s post after winning the vice presidential election on saturday moreover prime minister narendra modi india s third citizen is also from the bjp\n",
      "실제 요약 : india s top 3 citizens from bjp for the 1st time\n",
      "예측 요약 :  before school 6 attack about firm video on calls if calls\n",
      "\n",
      "\n",
      "원문 : indian pacer ashish nehra has confirmed his retirement with the first t20i against new zealand in new delhi on november 1 slated to be his last match i informed virat and ravi shastri that i think <UNK> and bumrah are doing well this is the right time for me to go said nehra the 38 year old has represented india for 18 years\n",
      "실제 요약 : nehra confirms retirement will play last match on nov 1\n",
      "예측 요약 :  me may a m m pic may a a a last\n",
      "\n",
      "\n",
      "원문 : actor john abraham has said he will soon be producing a film that will be based on football under his banner ja entertainment it s a true story and a fantastic script i think nobody understands football the way i do in the film industry he added notably the actor owns an indian professional football franchise named northeast united fc n\n",
      "실제 요약 : john abraham to produce film based on football\n",
      "예측 요약 :  uk uk on last last a attack its a a a\n",
      "\n",
      "\n",
      "원문 : us president donald trump said he would be calling north korea when asked about his father s day plans adding that he had given north korean leader kim jong un a direct phone number trump said he can call me if he has any difficulties trump had hailed his meeting with kim as a success that removed the north korean nuclear threat\n",
      "실제 요약 : i ll be calling n korea trump on his father s\n",
      "예측 요약 :  last uk 6 attack uk for last uk uk on firm\n",
      "\n",
      "\n",
      "원문 : bhojpuri actor manoj tiwari has said that his shoot for comedian kapil sharma s show was cancelled due to the ongoing strike by the federation of western india cine employees fwice i was here for a day to shoot for a bhojpuri episode but i got a call from him saying the shooting has been cancelled added tiwari\n",
      "실제 요약 : couldn t shoot for kapil s show due to <UNK> strike\n",
      "예측 요약 :  modi video on last a a a a dies may a\n",
      "\n",
      "\n",
      "원문 : <UNK> mutt seer <UNK> <UNK> <UNK> has written to bjp president amit shah supporting the minority religion status accorded to lingayats by the karnataka government the seer said the move would unite divided sub castes of lingayats this comes after the bjp slammed the state government over the decision and accused it of breaking up the hindu community\n",
      "실제 요약 : top <UNK> writes to shah supporting <UNK> minority status\n",
      "예측 요약 :  last attack 6 attack m attack its firm may a a\n",
      "\n",
      "\n",
      "원문 : us based e commerce giant amazon has 6 000 dogs at the company s seattle based headquarters the company also displays the pictures of their on campus dogs on the website s 404 error pages the idea to have dogs around the campus was inspired by a welsh <UNK> named <UNK> owned by a couple working at amazon who brought him to the office\n",
      "실제 요약 : amazon has 6 000 dogs at the company headquarters\n",
      "예측 요약 :  me may a a a last last dies its a dies\n",
      "\n",
      "\n",
      "원문 : fashion designer masaba gupta took to instagram to share a picture of sonam kapoor from her wedding four years ago masaba captioned the picture in the last 18 years that i ve known you you have been the most compassionate woman i ve known she added your ability to stick up for people who matter and always shower love and warmth is magical\n",
      "실제 요약 : sonam most <UNK> woman i ve known in 18 yrs masaba\n",
      "예측 요약 :  not uk m m m m m uk is gandhi on\n",
      "\n",
      "\n",
      "원문 : indian cricket captain virat kohli while referring to his rumoured girlfriend anushka sharma said <UNK> is very honest virat said this in a promotional clip of a diwali special tv show which will feature him alongside actor aamir khan in the clip aamir also revealed that the fastest time in which he solved a rubik s cube puzzle is 28 seconds\n",
      "실제 요약 : <UNK> is very honest virat on rumoured girlfriend anushka\n",
      "예측 요약 :  uk uk on last last attack on firm on firm if\n",
      "\n",
      "\n",
      "원문 : government owned banks have reported losses of 53 000 crore for the final quarter of 2017 18 according to data compiled by bloombergquint this compares with a net loss of 4 302 crore by the banks in the same quarter last year of the 17 listed public sector banks which have reported earnings till friday only indian bank and vijaya bank have posted profits\n",
      "실제 요약 : public sector banks lose 53 000 crore in march quarter\n",
      "예측 요약 :  before 6 6 attack 6 20 20 20 20 says 6\n",
      "\n",
      "\n",
      "원문 : us technology giant ibm has sued its former employee lindsay rae <UNK> one day after she was hired by microsoft as its chief diversity officer ibm said it intends to enforce <UNK> s non compete agreement to protect its competitive information <UNK> was at the centre of highly confidential and <UNK> sensitive information ibm added\n",
      "실제 요약 : ibm sues ex employee 1 day after she was hired by\n",
      "예측 요약 :  me may a m m pic may a a a last\n",
      "\n",
      "\n",
      "원문 : the income tax department has seized reportedly 100 kg of gold and 10 crore cash during raids on a lucknow based company the tax department has also reportedly found several documents related to land transactions and investment in foreign countries engaged in financing warehousing and real estate the company has allegedly evaded a substantial amount of tax\n",
      "실제 요약 : 10cr cash <UNK> gold seized in raid on lucknow based firm\n",
      "예측 요약 :  last attack sexual for a a a a dies may a\n",
      "\n",
      "\n",
      "원문 : malaysia s ministry of finance on wednesday said the goods and services tax gst will be reduced to 0 effective june 1 new prime minister mahathir mohamad had promised to abolish the 6 levy before his electoral victory the gst was introduced in april 2015 by ousted leader najib razak to offset a fall in oil revenue\n",
      "실제 요약 : malaysia to stop collecting gst from june 1\n",
      "예측 요약 :  last attack 6 attack 6 attack its firm on firm on\n",
      "\n",
      "\n",
      "원문 : comedy group aib s new video titled lightning fast movies is a parody of various bollywood films like dangal dilwale dulhania le jayenge and dhoom the video <UNK> films while <UNK> their plots within 10 20 seconds the video points out that zindagi na milegi <UNK> rock on and dil chahta hai have stereotypical storyline of how friends fight and then reconcile\n",
      "실제 요약 : <UNK> of films like dangal <UNK> in aib s new video\n",
      "예측 요약 :  me may a m m pic may a a a last\n",
      "\n",
      "\n",
      "원문 : the centre on wednesday told the supreme court that a committee to deliberate on the issue of data protection has been set up and its findings could help formulate a law to regulate data protection former sc judge bn srikrishna will head the 10 member committee it added this comes while the court was hearing a petition challenging whatsapp s privacy policy\n",
      "실제 요약 : have set up a panel on data protection centre tells sc\n",
      "예측 요약 :  last attack 6 attack m m uk on firm on firm\n",
      "\n",
      "\n",
      "CPU times: user 366 ms, sys: 7.12 ms, total: 373 ms\n",
      "Wall time: 369 ms\n"
     ]
    }
   ],
   "source": [
    "%%time\n",
    "for i in range(50, 100):\n",
    "    print(\"원문 :\", seq2text(encoder_input_test[i]))\n",
    "    print(\"실제 요약 :\", seq2headlines(decoder_input_test[i]))\n",
    "    input_seq = torch.tensor(encoder_input_test[i], dtype=torch.long, device=device).unsqueeze(0)\n",
    "    print(\"예측 요약 :\", decode_sequence(input_seq, encoder, decoder, tar_word_to_index, tar_index_to_word, text_max_len, headlines_max_len, device))\n",
    "    print(\"\\n\")"
   ]
  },
  {
   "cell_type": "code",
   "execution_count": null,
   "id": "6cb1ddc9-ad2a-4fd7-bfda-974d99b01854",
   "metadata": {},
   "outputs": [],
   "source": []
  },
  {
   "cell_type": "code",
   "execution_count": 70,
   "id": "25e2b186-cb73-4680-ae87-f6b4ada6381e",
   "metadata": {},
   "outputs": [],
   "source": [
    "# 추출적 요약 해보기\n",
    "# 본문에 존재하는 단어구, 문장을 뽑아서 요약으로 삼는 추출적 요약 방법 진행\n",
    "\n",
    "#패키지 Summa의 추출적 요약을 위한 모듈인 summarize 사용\n"
   ]
  },
  {
   "cell_type": "code",
   "execution_count": 71,
   "id": "93168c48-6e8b-485c-a8c0-522aa886380f",
   "metadata": {},
   "outputs": [
    {
     "name": "stdout",
     "output_type": "stream",
     "text": [
      "Requirement already satisfied: summa in /opt/conda/lib/python3.12/site-packages (1.2.0)\n",
      "Requirement already satisfied: scipy>=0.19 in /opt/conda/lib/python3.12/site-packages (from summa) (1.15.2)\n",
      "Requirement already satisfied: numpy<2.5,>=1.23.5 in /opt/conda/lib/python3.12/site-packages (from scipy>=0.19->summa) (2.2.6)\n"
     ]
    }
   ],
   "source": [
    "!pip install summa"
   ]
  },
  {
   "cell_type": "code",
   "execution_count": 72,
   "id": "0187a78c-28a7-4680-919e-a1797a519340",
   "metadata": {},
   "outputs": [],
   "source": [
    "# summarize 사용하기\n",
    "    # Summa의 summarize()의 인자로 사용되는 값\n",
    "    # text (str) : 요약할 테스트.\n",
    "    # ratio (float, optional) - 요약문에서 원본에서 선택되는 문장 비율. 0~1 사이값\n",
    "    # words (int or None, optional) - 출력에 포함할 단어 수. \n",
    "        #만약, ratio와 함께 두 파라미터가 모두 제공되는 경우 ratio는 무시한다.\n",
    "    # split (bool, optional) - True면 문장 list / False는 조인(join)된 문자열을 반환\n",
    "\n",
    "# Summa의 summarize는 문장 토큰화를 별도로 하지 않더라도 내부적으로 문장 토큰화를 수행\n",
    "# 원문을 바로 입력으로 넣을 수 있음. 비율을 적게 주어서 요약문으로 선택되는 문장의 개수를 줄여볼게요. \n",
    "# 원문의 0.005%만을 출력하도록 설정했어요."
   ]
  },
  {
   "cell_type": "code",
   "execution_count": 73,
   "id": "d091ac0d-70b0-4e3d-b14e-f81570cc4a06",
   "metadata": {},
   "outputs": [
    {
     "name": "stdout",
     "output_type": "stream",
     "text": [
      "Summary:\n"
     ]
    },
    {
     "ename": "NameError",
     "evalue": "name 'summarize' is not defined",
     "output_type": "error",
     "traceback": [
      "\u001b[31m---------------------------------------------------------------------------\u001b[39m",
      "\u001b[31mNameError\u001b[39m                                 Traceback (most recent call last)",
      "\u001b[36mCell\u001b[39m\u001b[36m \u001b[39m\u001b[32mIn[73]\u001b[39m\u001b[32m, line 2\u001b[39m\n\u001b[32m      1\u001b[39m \u001b[38;5;28mprint\u001b[39m(\u001b[33m'\u001b[39m\u001b[33mSummary:\u001b[39m\u001b[33m'\u001b[39m)\n\u001b[32m----> \u001b[39m\u001b[32m2\u001b[39m \u001b[38;5;28mprint\u001b[39m(\u001b[43msummarize\u001b[49m(text, ratio=\u001b[32m0.01\u001b[39m))\n",
      "\u001b[31mNameError\u001b[39m: name 'summarize' is not defined"
     ]
    }
   ],
   "source": [
    "print('Summary:')\n",
    "print(summarize(text, ratio=0.01))"
   ]
  }
 ],
 "metadata": {
  "kernelspec": {
   "display_name": "Python 3 (ipykernel)",
   "language": "python",
   "name": "python3"
  },
  "language_info": {
   "codemirror_mode": {
    "name": "ipython",
    "version": 3
   },
   "file_extension": ".py",
   "mimetype": "text/x-python",
   "name": "python",
   "nbconvert_exporter": "python",
   "pygments_lexer": "ipython3",
   "version": "3.12.11"
  }
 },
 "nbformat": 4,
 "nbformat_minor": 5
}
